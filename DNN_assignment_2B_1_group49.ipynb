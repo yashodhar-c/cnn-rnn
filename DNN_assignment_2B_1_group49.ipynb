{
  "nbformat": 4,
  "nbformat_minor": 0,
  "metadata": {
    "colab": {
      "provenance": []
    },
    "kernelspec": {
      "name": "python3",
      "display_name": "Python 3"
    },
    "language_info": {
      "name": "python"
    }
  },
  "cells": [
    {
      "cell_type": "markdown",
      "source": [
        "#Deep Neural Networks Assignment-2\n",
        "\n",
        "##Part 2B: Implement the following topics demonstrated (Lab sheets) in the webinar.\n",
        "\n",
        "##Course Code: AIMLCZG511\n"
      ],
      "metadata": {
        "id": "DLR-kyp-a24Z"
      }
    },
    {
      "cell_type": "markdown",
      "source": [
        "**Group No: 49**\n",
        "\n",
        "**2022AC05034 - DEEPAK J BHAT**\n",
        "\n",
        "**2022AC05061 - SUBRAT KUMAR**\n",
        "\n",
        "**2022AC05067 - YASHODHAR C BELGAUMKAR**\n",
        "\n",
        "**2022AC05384 - ANIRUDH KANFADE**"
      ],
      "metadata": {
        "id": "FMs1ZuXAbnd4"
      }
    },
    {
      "cell_type": "markdown",
      "source": [
        "# 1. Deep Neural Networks and Comparative analysis of optimizer performance\n",
        "\n"
      ],
      "metadata": {
        "id": "0F7_aq3Oaq5D"
      }
    },
    {
      "cell_type": "markdown",
      "source": [
        "**Note: The Exercise code is implemented after the implementing the code provided in lab sheets.**"
      ],
      "metadata": {
        "id": "3Gys_NOJZTLL"
      }
    },
    {
      "cell_type": "code",
      "execution_count": 61,
      "metadata": {
        "id": "xXWspgqbkgIQ"
      },
      "outputs": [],
      "source": [
        "import tensorflow as tf\n",
        "import keras.models as models\n",
        "import keras.layers as layers\n",
        "from keras import optimizers\n",
        "import random\n",
        "import numpy as np"
      ]
    },
    {
      "cell_type": "code",
      "source": [
        "random.seed(42)         # Initialize the random number generator.\n",
        "np.random.seed(42)      # With the seed reset, the same set of numbers will appear every time.\n",
        "tf.random.set_seed(42)  # sets the graph-level random seed"
      ],
      "metadata": {
        "id": "BmAsHswgGDi3"
      },
      "execution_count": 21,
      "outputs": []
    },
    {
      "cell_type": "code",
      "source": [
        "# Use the MNIST dataset  of Keras.\n",
        "\n",
        "mnist = tf.keras.datasets.mnist\n",
        "\n",
        "(Xtrain, Ytrain), (Xtest, Ytest) = mnist.load_data()"
      ],
      "metadata": {
        "id": "UQqKytDsIkIh"
      },
      "execution_count": 22,
      "outputs": []
    },
    {
      "cell_type": "code",
      "source": [
        "import matplotlib.pyplot as plt\n",
        "\n",
        "plt.figure(figsize =[6,6])\n",
        "\n",
        "# Display the first image in training data\n",
        "plt.subplot(121)\n",
        "plt.imshow(Xtrain[0,:,:], cmap = 'ocean')\n",
        "plt.title('Ground truth (train) : {}'.format(Ytrain[0]))\n",
        "\n",
        "# Display the first image in testing data\n",
        "plt.subplot(222)\n",
        "plt.imshow(Xtest[0,:,:], cmap ='copper')\n",
        "plt.title(\"Ground truth(test): {}\".format(Ytest[0]))"
      ],
      "metadata": {
        "colab": {
          "base_uri": "https://localhost:8080/",
          "height": 436
        },
        "id": "k3GMYFxfIkKU",
        "outputId": "5a6e161b-4fe1-4596-a76b-9dfb86e0b87a"
      },
      "execution_count": 23,
      "outputs": [
        {
          "output_type": "execute_result",
          "data": {
            "text/plain": [
              "Text(0.5, 1.0, 'Ground truth(test): 7')"
            ]
          },
          "metadata": {},
          "execution_count": 23
        },
        {
          "output_type": "display_data",
          "data": {
            "text/plain": [
              "<Figure size 600x600 with 2 Axes>"
            ],
            "image/png": "[encoded data removed]"
          },
          "metadata": {}
        }
      ]
    },
    {
      "cell_type": "code",
      "source": [
        "# size of the datsets\n",
        "\n",
        "print(Xtrain.shape)\n",
        "print(Xtest.shape)\n",
        "\n",
        "print(Ytrain.shape)\n",
        "print(Ytest.shape)"
      ],
      "metadata": {
        "colab": {
          "base_uri": "https://localhost:8080/"
        },
        "id": "zoIRlGY-IkNN",
        "outputId": "114dcf48-9b6d-444c-b6c0-982ebef3af7f"
      },
      "execution_count": 24,
      "outputs": [
        {
          "output_type": "stream",
          "name": "stdout",
          "text": [
            "(60000, 28, 28)\n",
            "(10000, 28, 28)\n",
            "(60000,)\n",
            "(10000,)\n"
          ]
        }
      ]
    },
    {
      "cell_type": "code",
      "source": [
        "# print a sample data\n",
        "\n",
        "print('Xtrain \\n', Xtrain[10,10])\n",
        "print('Xtest \\n', Xtest[10,10])\n",
        "print('Ytrain \\n', Ytrain[10,])\n",
        "print('Ytest \\n', Ytest[10,])"
      ],
      "metadata": {
        "colab": {
          "base_uri": "https://localhost:8080/"
        },
        "id": "X-EfThKkIkQG",
        "outputId": "f59a9e3b-8649-4c5a-e94a-729de596608f"
      },
      "execution_count": 25,
      "outputs": [
        {
          "output_type": "stream",
          "name": "stdout",
          "text": [
            "Xtrain \n",
            " [  0   0   0   0   0   0   0   0   0   0   0   0   0  24 209 254 254 254\n",
            " 171   0   0   0   0   0   0   0   0   0]\n",
            "Xtest \n",
            " [  0   0   0   0   0   0   0   0 194 254 103   0   0   0   0   0   0   0\n",
            "   0   0 150 254 213   0   0   0   0   0]\n",
            "Ytrain \n",
            " 3\n",
            "Ytest \n",
            " 0\n"
          ]
        }
      ]
    },
    {
      "cell_type": "code",
      "source": [
        "# Normalize the data\n",
        "# 60000 input images are in the train set.\n",
        "# 10000 input images are in the test set.\n",
        "\n",
        "Xtrain = Xtrain.reshape((60000, 28*28))    # reshape the input set to size 28*28.\n",
        "Xtrain = Xtrain.astype('float32')/255      # normalize to grayscale; set datatype as float32\n",
        "\n",
        "Xtest = Xtest.reshape((10000, 28*28))      # reshape the input set to size 28*28.\n",
        "Xtest = Xtest.astype('float32')/255        # normalize to grayscale; set datatype as float32\n",
        "\n",
        "Ytrain = tf.keras.utils.to_categorical(Ytrain)\n",
        "Ytest = tf.keras.utils.to_categorical(Ytest)"
      ],
      "metadata": {
        "id": "GXzewL74oT4L"
      },
      "execution_count": 26,
      "outputs": []
    },
    {
      "cell_type": "code",
      "source": [
        "# print a sample data\n",
        "\n",
        "print('Xtrain \\n', Xtrain[10,10])\n",
        "print('Xtest \\n', Xtest[10,10])\n",
        "print('Ytrain \\n', Ytrain[10,])\n",
        "print('Ytest \\n', Ytest[10,])"
      ],
      "metadata": {
        "colab": {
          "base_uri": "https://localhost:8080/"
        },
        "id": "wABzlWpgo8KK",
        "outputId": "219a41cd-b152-4876-9a1e-2b1c014d2216"
      },
      "execution_count": 27,
      "outputs": [
        {
          "output_type": "stream",
          "name": "stdout",
          "text": [
            "Xtrain \n",
            " 0.0\n",
            "Xtest \n",
            " 0.0\n",
            "Ytrain \n",
            " [0. 0. 0. 1. 0. 0. 0. 0. 0. 0.]\n",
            "Ytest \n",
            " [1. 0. 0. 0. 0. 0. 0. 0. 0. 0.]\n"
          ]
        }
      ]
    },
    {
      "cell_type": "markdown",
      "source": [
        "##DNN Model\n",
        "\n",
        "Using Keras, create the DNN or Sequential Model"
      ],
      "metadata": {
        "id": "wrkKiJh6dWaj"
      }
    },
    {
      "cell_type": "code",
      "source": [
        "# Create a model object\n",
        "\n",
        "dnnModel = models.Sequential()"
      ],
      "metadata": {
        "id": "4IOPs6oVo8Ly"
      },
      "execution_count": 28,
      "outputs": []
    },
    {
      "cell_type": "markdown",
      "source": [
        "Add dense layers, specifying the number of units in each layer and the activation function used in the layer."
      ],
      "metadata": {
        "id": "Esh6gr2HdjVd"
      }
    },
    {
      "cell_type": "code",
      "source": [
        "# Layer 1 = input layer\n",
        "# specify the input size in the first layer.\n",
        "dnnModel.add(layers.Dense(50, activation='relu', input_shape=(28*28,)))\n",
        "\n",
        "# Layer 2 = hidden layer\n",
        "dnnModel.add(layers.Dense(60, activation='relu'))\n",
        "\n",
        "# Layer 3 = hidden layer\n",
        "dnnModel.add(layers.Dense(30, activation='relu'))\n",
        "\n",
        "# Layer 4 = output layer\n",
        "dnnModel.add(layers.Dense(10, activation='softmax'))\n",
        "\n",
        "dnnModel.summary()"
      ],
      "metadata": {
        "colab": {
          "base_uri": "https://localhost:8080/"
        },
        "id": "sFxSXLLco8Pf",
        "outputId": "59d98dae-3373-4b13-dd38-69e2db0ce6e9"
      },
      "execution_count": 29,
      "outputs": [
        {
          "output_type": "stream",
          "name": "stdout",
          "text": [
            "Model: \"sequential_3\"\n",
            "_________________________________________________________________\n",
            " Layer (type)                Output Shape              Param #   \n",
            "=================================================================\n",
            " dense_12 (Dense)            (None, 50)                39250     \n",
            "                                                                 \n",
            " dense_13 (Dense)            (None, 60)                3060      \n",
            "                                                                 \n",
            " dense_14 (Dense)            (None, 30)                1830      \n",
            "                                                                 \n",
            " dense_15 (Dense)            (None, 10)                310       \n",
            "                                                                 \n",
            "=================================================================\n",
            "Total params: 44450 (173.63 KB)\n",
            "Trainable params: 44450 (173.63 KB)\n",
            "Non-trainable params: 0 (0.00 Byte)\n",
            "_________________________________________________________________\n"
          ]
        }
      ]
    },
    {
      "cell_type": "code",
      "source": [
        "dnnModel_adam = models.Sequential()\n",
        "dnnModel_adam.add(layers.Dense(50, activation='relu', input_shape= (28*28,)))\n",
        "dnnModel_adam.add(layers.Dense(60, activation='relu'))\n",
        "dnnModel_adam.add(layers.Dense(30, activation='relu'))\n",
        "dnnModel_adam.add(layers.Dense(10, activation='softmax'))\n",
        "dnnModel_adam.summary()"
      ],
      "metadata": {
        "colab": {
          "base_uri": "https://localhost:8080/"
        },
        "id": "OMDYunvd_WlP",
        "outputId": "f212a5e3-66ec-470e-da3b-3d46951bbaa5"
      },
      "execution_count": 30,
      "outputs": [
        {
          "output_type": "stream",
          "name": "stdout",
          "text": [
            "Model: \"sequential_4\"\n",
            "_________________________________________________________________\n",
            " Layer (type)                Output Shape              Param #   \n",
            "=================================================================\n",
            " dense_16 (Dense)            (None, 50)                39250     \n",
            "                                                                 \n",
            " dense_17 (Dense)            (None, 60)                3060      \n",
            "                                                                 \n",
            " dense_18 (Dense)            (None, 30)                1830      \n",
            "                                                                 \n",
            " dense_19 (Dense)            (None, 10)                310       \n",
            "                                                                 \n",
            "=================================================================\n",
            "Total params: 44450 (173.63 KB)\n",
            "Trainable params: 44450 (173.63 KB)\n",
            "Non-trainable params: 0 (0.00 Byte)\n",
            "_________________________________________________________________\n"
          ]
        }
      ]
    },
    {
      "cell_type": "code",
      "source": [
        "dnnModel_rmsprop = models.Sequential()\n",
        "dnnModel_rmsprop.add(layers.Dense(50, activation='relu', input_shape= (28*28,)))\n",
        "dnnModel_rmsprop.add(layers.Dense(60, activation='relu'))\n",
        "dnnModel_rmsprop.add(layers.Dense(30, activation='relu'))\n",
        "dnnModel_rmsprop.add(layers.Dense(10, activation='softmax'))\n",
        "dnnModel_rmsprop.summary()"
      ],
      "metadata": {
        "colab": {
          "base_uri": "https://localhost:8080/"
        },
        "id": "kFWUtQQ3YIBY",
        "outputId": "fb58b970-eeed-4fad-c6b4-bebac28cb61e"
      },
      "execution_count": 31,
      "outputs": [
        {
          "output_type": "stream",
          "name": "stdout",
          "text": [
            "Model: \"sequential_5\"\n",
            "_________________________________________________________________\n",
            " Layer (type)                Output Shape              Param #   \n",
            "=================================================================\n",
            " dense_20 (Dense)            (None, 50)                39250     \n",
            "                                                                 \n",
            " dense_21 (Dense)            (None, 60)                3060      \n",
            "                                                                 \n",
            " dense_22 (Dense)            (None, 30)                1830      \n",
            "                                                                 \n",
            " dense_23 (Dense)            (None, 10)                310       \n",
            "                                                                 \n",
            "=================================================================\n",
            "Total params: 44450 (173.63 KB)\n",
            "Trainable params: 44450 (173.63 KB)\n",
            "Non-trainable params: 0 (0.00 Byte)\n",
            "_________________________________________________________________\n"
          ]
        }
      ]
    },
    {
      "cell_type": "markdown",
      "source": [
        "##Regularization and Optimizations of DNN"
      ],
      "metadata": {
        "id": "3-H9odO0d-dJ"
      }
    },
    {
      "cell_type": "code",
      "source": [
        "# Configure  the model for training, by using appropriate optimizers and regularizations\n",
        "# Available optimizer: adam, rmsprop, adagrad, sgd\n",
        "# loss:  objective that the model will try to minimize.\n",
        "# Available loss: categorical_crossentropy, binary_crossentropy, mean_squared_error\n",
        "# metrics: List of metrics to be evaluated by the model during training and testing.\n",
        "\n",
        "dnnModel.compile( optimizer = 'sgd', loss = 'categorical_crossentropy', metrics=['accuracy'] )\n",
        "dnnModel_adam.compile( optimizer = 'adam', loss = 'categorical_crossentropy', metrics=['accuracy'] )\n",
        "dnnModel_rmsprop.compile( optimizer = 'rmsprop', loss = 'categorical_crossentropy', metrics=['accuracy'] )"
      ],
      "metadata": {
        "id": "x4c3CMolYH-g"
      },
      "execution_count": 32,
      "outputs": []
    },
    {
      "cell_type": "markdown",
      "source": [
        "###Train the Model"
      ],
      "metadata": {
        "id": "ZPQ7qm2aeIKq"
      }
    },
    {
      "cell_type": "code",
      "source": [
        "# train the model\n",
        "\n",
        "h_sgd  = dnnModel.fit( Xtrain, Ytrain, epochs=25, batch_size=64, validation_split=0.1)\n",
        "h_adam  = dnnModel_adam.fit( Xtrain, Ytrain, epochs=25, batch_size=64, validation_split=0.1)\n",
        "h_rms  = dnnModel_rmsprop.fit( Xtrain, Ytrain, epochs=25, batch_size=64, validation_split=0.1)"
      ],
      "metadata": {
        "colab": {
          "base_uri": "https://localhost:8080/"
        },
        "id": "SkDf6osyYQOz",
        "outputId": "897673a3-d3fe-4929-e1f5-ec7920457ae6"
      },
      "execution_count": 33,
      "outputs": [
        {
          "output_type": "stream",
          "name": "stdout",
          "text": [
            "Epoch 1/25\n",
            "844/844 [==============================] - 3s 3ms/step - loss: 1.5186 - accuracy: 0.5602 - val_loss: 0.5466 - val_accuracy: 0.8655\n",
            "Epoch 2/25\n",
            "844/844 [==============================] - 2s 2ms/step - loss: 0.4728 - accuracy: 0.8697 - val_loss: 0.3219 - val_accuracy: 0.9108\n",
            "Epoch 3/25\n",
            "844/844 [==============================] - 2s 2ms/step - loss: 0.3575 - accuracy: 0.8986 - val_loss: 0.2706 - val_accuracy: 0.9240\n",
            "Epoch 4/25\n",
            "844/844 [==============================] - 3s 3ms/step - loss: 0.3109 - accuracy: 0.9105 - val_loss: 0.2392 - val_accuracy: 0.9313\n",
            "Epoch 5/25\n",
            "844/844 [==============================] - 2s 2ms/step - loss: 0.2779 - accuracy: 0.9204 - val_loss: 0.2205 - val_accuracy: 0.9373\n",
            "Epoch 6/25\n",
            "844/844 [==============================] - 2s 2ms/step - loss: 0.2529 - accuracy: 0.9270 - val_loss: 0.1974 - val_accuracy: 0.9420\n",
            "Epoch 7/25\n",
            "844/844 [==============================] - 2s 2ms/step - loss: 0.2317 - accuracy: 0.9331 - val_loss: 0.1829 - val_accuracy: 0.9468\n",
            "Epoch 8/25\n",
            "844/844 [==============================] - 2s 2ms/step - loss: 0.2141 - accuracy: 0.9371 - val_loss: 0.1689 - val_accuracy: 0.9520\n",
            "Epoch 9/25\n",
            "844/844 [==============================] - 2s 2ms/step - loss: 0.1986 - accuracy: 0.9425 - val_loss: 0.1635 - val_accuracy: 0.9525\n",
            "Epoch 10/25\n",
            "844/844 [==============================] - 3s 3ms/step - loss: 0.1859 - accuracy: 0.9460 - val_loss: 0.1524 - val_accuracy: 0.9550\n",
            "Epoch 11/25\n",
            "844/844 [==============================] - 2s 2ms/step - loss: 0.1743 - accuracy: 0.9497 - val_loss: 0.1431 - val_accuracy: 0.9593\n",
            "Epoch 12/25\n",
            "844/844 [==============================] - 2s 2ms/step - loss: 0.1638 - accuracy: 0.9523 - val_loss: 0.1355 - val_accuracy: 0.9603\n",
            "Epoch 13/25\n",
            "844/844 [==============================] - 2s 2ms/step - loss: 0.1544 - accuracy: 0.9555 - val_loss: 0.1342 - val_accuracy: 0.9617\n",
            "Epoch 14/25\n",
            "844/844 [==============================] - 2s 3ms/step - loss: 0.1460 - accuracy: 0.9569 - val_loss: 0.1276 - val_accuracy: 0.9630\n",
            "Epoch 15/25\n",
            "844/844 [==============================] - 3s 3ms/step - loss: 0.1387 - accuracy: 0.9597 - val_loss: 0.1246 - val_accuracy: 0.9650\n",
            "Epoch 16/25\n",
            "844/844 [==============================] - 2s 3ms/step - loss: 0.1317 - accuracy: 0.9612 - val_loss: 0.1177 - val_accuracy: 0.9683\n",
            "Epoch 17/25\n",
            "844/844 [==============================] - 2s 2ms/step - loss: 0.1259 - accuracy: 0.9632 - val_loss: 0.1131 - val_accuracy: 0.9685\n",
            "Epoch 18/25\n",
            "844/844 [==============================] - 2s 2ms/step - loss: 0.1203 - accuracy: 0.9650 - val_loss: 0.1161 - val_accuracy: 0.9678\n",
            "Epoch 19/25\n",
            "844/844 [==============================] - 2s 2ms/step - loss: 0.1150 - accuracy: 0.9659 - val_loss: 0.1084 - val_accuracy: 0.9703\n",
            "Epoch 20/25\n",
            "844/844 [==============================] - 2s 2ms/step - loss: 0.1093 - accuracy: 0.9676 - val_loss: 0.1175 - val_accuracy: 0.9658\n",
            "Epoch 21/25\n",
            "844/844 [==============================] - 3s 3ms/step - loss: 0.1051 - accuracy: 0.9687 - val_loss: 0.1080 - val_accuracy: 0.9702\n",
            "Epoch 22/25\n",
            "844/844 [==============================] - 2s 2ms/step - loss: 0.1009 - accuracy: 0.9697 - val_loss: 0.1110 - val_accuracy: 0.9690\n",
            "Epoch 23/25\n",
            "844/844 [==============================] - 2s 2ms/step - loss: 0.0976 - accuracy: 0.9708 - val_loss: 0.1078 - val_accuracy: 0.9687\n",
            "Epoch 24/25\n",
            "844/844 [==============================] - 2s 2ms/step - loss: 0.0934 - accuracy: 0.9727 - val_loss: 0.1035 - val_accuracy: 0.9702\n",
            "Epoch 25/25\n",
            "844/844 [==============================] - 2s 2ms/step - loss: 0.0900 - accuracy: 0.9727 - val_loss: 0.1026 - val_accuracy: 0.9705\n",
            "Epoch 1/25\n",
            "844/844 [==============================] - 3s 3ms/step - loss: 0.3624 - accuracy: 0.8919 - val_loss: 0.1538 - val_accuracy: 0.9540\n",
            "Epoch 2/25\n",
            "844/844 [==============================] - 2s 3ms/step - loss: 0.1559 - accuracy: 0.9535 - val_loss: 0.1173 - val_accuracy: 0.9658\n",
            "Epoch 3/25\n",
            "844/844 [==============================] - 3s 3ms/step - loss: 0.1148 - accuracy: 0.9653 - val_loss: 0.1025 - val_accuracy: 0.9713\n",
            "Epoch 4/25\n",
            "844/844 [==============================] - 3s 3ms/step - loss: 0.0930 - accuracy: 0.9720 - val_loss: 0.0992 - val_accuracy: 0.9732\n",
            "Epoch 5/25\n",
            "844/844 [==============================] - 2s 3ms/step - loss: 0.0774 - accuracy: 0.9767 - val_loss: 0.0901 - val_accuracy: 0.9747\n",
            "Epoch 6/25\n",
            "844/844 [==============================] - 2s 3ms/step - loss: 0.0674 - accuracy: 0.9783 - val_loss: 0.0955 - val_accuracy: 0.9750\n",
            "Epoch 7/25\n",
            "844/844 [==============================] - 2s 3ms/step - loss: 0.0584 - accuracy: 0.9819 - val_loss: 0.0909 - val_accuracy: 0.9763\n",
            "Epoch 8/25\n",
            "844/844 [==============================] - 2s 3ms/step - loss: 0.0518 - accuracy: 0.9833 - val_loss: 0.0933 - val_accuracy: 0.9770\n",
            "Epoch 9/25\n",
            "844/844 [==============================] - 3s 3ms/step - loss: 0.0452 - accuracy: 0.9857 - val_loss: 0.0994 - val_accuracy: 0.9750\n",
            "Epoch 10/25\n",
            "844/844 [==============================] - 2s 3ms/step - loss: 0.0400 - accuracy: 0.9866 - val_loss: 0.0977 - val_accuracy: 0.9768\n",
            "Epoch 11/25\n",
            "844/844 [==============================] - 2s 3ms/step - loss: 0.0364 - accuracy: 0.9886 - val_loss: 0.1009 - val_accuracy: 0.9750\n",
            "Epoch 12/25\n",
            "844/844 [==============================] - 2s 3ms/step - loss: 0.0340 - accuracy: 0.9887 - val_loss: 0.1057 - val_accuracy: 0.9752\n",
            "Epoch 13/25\n",
            "844/844 [==============================] - 2s 3ms/step - loss: 0.0271 - accuracy: 0.9914 - val_loss: 0.1149 - val_accuracy: 0.9760\n",
            "Epoch 14/25\n",
            "844/844 [==============================] - 3s 4ms/step - loss: 0.0258 - accuracy: 0.9916 - val_loss: 0.1099 - val_accuracy: 0.9768\n",
            "Epoch 15/25\n",
            "844/844 [==============================] - 2s 3ms/step - loss: 0.0244 - accuracy: 0.9918 - val_loss: 0.1183 - val_accuracy: 0.9725\n",
            "Epoch 16/25\n",
            "844/844 [==============================] - 2s 3ms/step - loss: 0.0203 - accuracy: 0.9934 - val_loss: 0.1178 - val_accuracy: 0.9760\n",
            "Epoch 17/25\n",
            "844/844 [==============================] - 2s 3ms/step - loss: 0.0218 - accuracy: 0.9928 - val_loss: 0.1262 - val_accuracy: 0.9747\n",
            "Epoch 18/25\n",
            "844/844 [==============================] - 2s 3ms/step - loss: 0.0181 - accuracy: 0.9937 - val_loss: 0.1354 - val_accuracy: 0.9752\n",
            "Epoch 19/25\n",
            "844/844 [==============================] - 3s 4ms/step - loss: 0.0175 - accuracy: 0.9942 - val_loss: 0.1395 - val_accuracy: 0.9718\n",
            "Epoch 20/25\n",
            "844/844 [==============================] - 2s 3ms/step - loss: 0.0179 - accuracy: 0.9944 - val_loss: 0.1336 - val_accuracy: 0.9743\n",
            "Epoch 21/25\n",
            "844/844 [==============================] - 2s 3ms/step - loss: 0.0130 - accuracy: 0.9960 - val_loss: 0.1413 - val_accuracy: 0.9745\n",
            "Epoch 22/25\n",
            "844/844 [==============================] - 2s 3ms/step - loss: 0.0150 - accuracy: 0.9949 - val_loss: 0.1464 - val_accuracy: 0.9750\n",
            "Epoch 23/25\n",
            "844/844 [==============================] - 2s 3ms/step - loss: 0.0159 - accuracy: 0.9946 - val_loss: 0.1571 - val_accuracy: 0.9718\n",
            "Epoch 24/25\n",
            "844/844 [==============================] - 4s 4ms/step - loss: 0.0138 - accuracy: 0.9953 - val_loss: 0.1569 - val_accuracy: 0.9735\n",
            "Epoch 25/25\n",
            "844/844 [==============================] - 3s 3ms/step - loss: 0.0130 - accuracy: 0.9961 - val_loss: 0.1638 - val_accuracy: 0.9738\n",
            "Epoch 1/25\n",
            "844/844 [==============================] - 4s 3ms/step - loss: 0.3776 - accuracy: 0.8905 - val_loss: 0.1552 - val_accuracy: 0.9548\n",
            "Epoch 2/25\n",
            "844/844 [==============================] - 2s 3ms/step - loss: 0.1682 - accuracy: 0.9499 - val_loss: 0.1323 - val_accuracy: 0.9615\n",
            "Epoch 3/25\n",
            "844/844 [==============================] - 3s 4ms/step - loss: 0.1255 - accuracy: 0.9616 - val_loss: 0.1166 - val_accuracy: 0.9670\n",
            "Epoch 4/25\n",
            "844/844 [==============================] - 3s 4ms/step - loss: 0.1013 - accuracy: 0.9691 - val_loss: 0.1050 - val_accuracy: 0.9697\n",
            "Epoch 5/25\n",
            "844/844 [==============================] - 2s 2ms/step - loss: 0.0852 - accuracy: 0.9737 - val_loss: 0.0927 - val_accuracy: 0.9740\n",
            "Epoch 6/25\n",
            "844/844 [==============================] - 3s 3ms/step - loss: 0.0731 - accuracy: 0.9779 - val_loss: 0.0948 - val_accuracy: 0.9742\n",
            "Epoch 7/25\n",
            "844/844 [==============================] - 4s 5ms/step - loss: 0.0653 - accuracy: 0.9807 - val_loss: 0.0942 - val_accuracy: 0.9762\n",
            "Epoch 8/25\n",
            "844/844 [==============================] - 5s 6ms/step - loss: 0.0560 - accuracy: 0.9828 - val_loss: 0.1045 - val_accuracy: 0.9745\n",
            "Epoch 9/25\n",
            "844/844 [==============================] - 3s 4ms/step - loss: 0.0493 - accuracy: 0.9850 - val_loss: 0.1061 - val_accuracy: 0.9747\n",
            "Epoch 10/25\n",
            "844/844 [==============================] - 2s 3ms/step - loss: 0.0446 - accuracy: 0.9866 - val_loss: 0.1037 - val_accuracy: 0.9762\n",
            "Epoch 11/25\n",
            "844/844 [==============================] - 2s 2ms/step - loss: 0.0416 - accuracy: 0.9877 - val_loss: 0.1225 - val_accuracy: 0.9715\n",
            "Epoch 12/25\n",
            "844/844 [==============================] - 3s 3ms/step - loss: 0.0378 - accuracy: 0.9886 - val_loss: 0.0995 - val_accuracy: 0.9777\n",
            "Epoch 13/25\n",
            "844/844 [==============================] - 3s 3ms/step - loss: 0.0335 - accuracy: 0.9898 - val_loss: 0.1014 - val_accuracy: 0.9770\n",
            "Epoch 14/25\n",
            "844/844 [==============================] - 2s 3ms/step - loss: 0.0290 - accuracy: 0.9912 - val_loss: 0.1297 - val_accuracy: 0.9728\n",
            "Epoch 15/25\n",
            "844/844 [==============================] - 2s 2ms/step - loss: 0.0274 - accuracy: 0.9917 - val_loss: 0.1169 - val_accuracy: 0.9757\n",
            "Epoch 16/25\n",
            "844/844 [==============================] - 2s 3ms/step - loss: 0.0253 - accuracy: 0.9919 - val_loss: 0.1186 - val_accuracy: 0.9748\n",
            "Epoch 17/25\n",
            "844/844 [==============================] - 2s 3ms/step - loss: 0.0229 - accuracy: 0.9926 - val_loss: 0.1391 - val_accuracy: 0.9722\n",
            "Epoch 18/25\n",
            "844/844 [==============================] - 3s 4ms/step - loss: 0.0220 - accuracy: 0.9927 - val_loss: 0.1440 - val_accuracy: 0.9748\n",
            "Epoch 19/25\n",
            "844/844 [==============================] - 2s 3ms/step - loss: 0.0185 - accuracy: 0.9943 - val_loss: 0.1378 - val_accuracy: 0.9763\n",
            "Epoch 20/25\n",
            "844/844 [==============================] - 2s 3ms/step - loss: 0.0169 - accuracy: 0.9946 - val_loss: 0.1404 - val_accuracy: 0.9767\n",
            "Epoch 21/25\n",
            "844/844 [==============================] - 2s 2ms/step - loss: 0.0160 - accuracy: 0.9947 - val_loss: 0.1542 - val_accuracy: 0.9735\n",
            "Epoch 22/25\n",
            "844/844 [==============================] - 2s 2ms/step - loss: 0.0143 - accuracy: 0.9954 - val_loss: 0.1392 - val_accuracy: 0.9750\n",
            "Epoch 23/25\n",
            "844/844 [==============================] - 3s 4ms/step - loss: 0.0141 - accuracy: 0.9956 - val_loss: 0.1544 - val_accuracy: 0.9733\n",
            "Epoch 24/25\n",
            "844/844 [==============================] - 2s 2ms/step - loss: 0.0124 - accuracy: 0.9961 - val_loss: 0.1722 - val_accuracy: 0.9722\n",
            "Epoch 25/25\n",
            "844/844 [==============================] - 2s 2ms/step - loss: 0.0125 - accuracy: 0.9961 - val_loss: 0.1642 - val_accuracy: 0.9742\n"
          ]
        }
      ]
    },
    {
      "cell_type": "code",
      "source": [
        "print('SGD Final training accuracy', h_sgd.history['accuracy'][-1])\n",
        "print('Adam Final training accuracy', h_adam.history['accuracy'][-1])\n",
        "print('RMSProp Final training accuracy', h_rms.history['accuracy'][-1])"
      ],
      "metadata": {
        "colab": {
          "base_uri": "https://localhost:8080/"
        },
        "id": "l978BZ8LeikX",
        "outputId": "56212ab8-3354-4b0f-9c05-0defe4af0203"
      },
      "execution_count": 34,
      "outputs": [
        {
          "output_type": "stream",
          "name": "stdout",
          "text": [
            "SGD Final training accuracy 0.9727222323417664\n",
            "Adam Final training accuracy 0.996055543422699\n",
            "RMSProp Final training accuracy 0.9961110949516296\n"
          ]
        }
      ]
    },
    {
      "cell_type": "code",
      "source": [
        "print('SGD Final training loss', h_sgd.history['loss'][-1])\n",
        "print('Adam Final training loss', h_adam.history['loss'][-1])\n",
        "print('RMSProp Final training loss', h_rms.history['loss'][-1])"
      ],
      "metadata": {
        "colab": {
          "base_uri": "https://localhost:8080/"
        },
        "id": "nWnIgz2zFivD",
        "outputId": "7ecdfe4c-3e58-41ad-aa1e-12e4ab049702"
      },
      "execution_count": 35,
      "outputs": [
        {
          "output_type": "stream",
          "name": "stdout",
          "text": [
            "SGD Final training loss 0.09000672399997711\n",
            "Adam Final training loss 0.012974083423614502\n",
            "RMSProp Final training loss 0.012529120780527592\n"
          ]
        }
      ]
    },
    {
      "cell_type": "markdown",
      "source": [
        "###Testing the Model"
      ],
      "metadata": {
        "id": "3DSyVEXhedeG"
      }
    },
    {
      "cell_type": "code",
      "source": [
        "#testing the model\n",
        "\n",
        "testLoss_sgd, testAccuracy_sgd = dnnModel.evaluate(Xtest, Ytest)\n",
        "testLoss_adam, testAccuracy_adam = dnnModel_adam.evaluate(Xtest, Ytest)\n",
        "testLoss_rms, testAccuracy_rms = dnnModel_rmsprop.evaluate(Xtest, Ytest)"
      ],
      "metadata": {
        "id": "cUu1_YGLqbIY",
        "colab": {
          "base_uri": "https://localhost:8080/"
        },
        "outputId": "8a447e34-455d-44ae-d279-f48fa2cd82df"
      },
      "execution_count": 36,
      "outputs": [
        {
          "output_type": "stream",
          "name": "stdout",
          "text": [
            "313/313 [==============================] - 0s 1ms/step - loss: 0.1105 - accuracy: 0.9657\n",
            "313/313 [==============================] - 0s 1ms/step - loss: 0.1444 - accuracy: 0.9727\n",
            "313/313 [==============================] - 0s 1ms/step - loss: 0.1668 - accuracy: 0.9728\n"
          ]
        }
      ]
    },
    {
      "cell_type": "code",
      "source": [
        "#plot the training accuracy\n",
        "\n",
        "plt.plot(h_sgd.history['accuracy'], label='SGD')\n",
        "plt.plot(h_adam.history['accuracy'], label='Adam')\n",
        "plt.plot(h_rms.history['accuracy'], label='RmsProp')\n",
        "\n",
        "plt.xlabel('Epochs')\n",
        "plt.ylabel('Loss')\n",
        "plt.title('Plot of training accuracy')\n",
        "plt.legend()\n",
        "plt.show()"
      ],
      "metadata": {
        "colab": {
          "base_uri": "https://localhost:8080/",
          "height": 472
        },
        "id": "-wyiZRpdgwnB",
        "outputId": "4b33eee9-7a1b-4493-dbe6-bb0e3901b782"
      },
      "execution_count": 37,
      "outputs": [
        {
          "output_type": "display_data",
          "data": {
            "text/plain": [
              "<Figure size 640x480 with 1 Axes>"
            ],
            "image/png": "[encoded data removed]"
          },
          "metadata": {}
        }
      ]
    },
    {
      "cell_type": "code",
      "source": [
        "#plot the training loss\n",
        "\n",
        "plt.plot(h_sgd.history['loss'], label='SGD')\n",
        "plt.plot(h_adam.history['loss'], label='Adam')\n",
        "plt.plot(h_rms.history['loss'], label='RmsProp')\n",
        "\n",
        "plt.xlabel('Epochs')\n",
        "plt.ylabel('Loss')\n",
        "plt.title('Plot of Training Loss')\n",
        "plt.legend()\n",
        "plt.show()"
      ],
      "metadata": {
        "colab": {
          "base_uri": "https://localhost:8080/",
          "height": 472
        },
        "id": "pmu7BB76gwjR",
        "outputId": "eb562a3c-3999-41d8-caa3-42cad1ba3b7a"
      },
      "execution_count": 38,
      "outputs": [
        {
          "output_type": "display_data",
          "data": {
            "text/plain": [
              "<Figure size 640x480 with 1 Axes>"
            ],
            "image/png": "[encoded data removed]"
          },
          "metadata": {}
        }
      ]
    },
    {
      "cell_type": "markdown",
      "source": [
        "##**Tabular Comparison w.r.t performance metrics**"
      ],
      "metadata": {
        "id": "HynHF20N79k1"
      }
    },
    {
      "cell_type": "markdown",
      "source": [
        "---\n",
        "Optimizer    ----       Training Loss    -----------          Training Accuracy\n",
        "\n",
        "\n",
        "---\n",
        "\n",
        "SGD       ------------------        0.09138--------------------0.9738\n",
        "                   \n",
        "Adam      ----------------         0.01205--------------------0.9961\n",
        "\n",
        "RMSProp   -----------         0.01369-------------------0.9953"
      ],
      "metadata": {
        "id": "PX6qnZZDFDIE"
      }
    },
    {
      "cell_type": "markdown",
      "source": [
        "\n",
        "---\n",
        "Optimizer    ----       Testing Loss    -----------          Testing Accuracy\n",
        "\n",
        "\n",
        "---\n",
        "\n",
        "SGD       ------------------        0.1196-------------------- 0.9646\n",
        "                   \n",
        "Adam      ----------------        0.1382-------------------- 0.9711\n",
        "\n",
        "RMSProp   -----------         0.1514-------------------0.9762"
      ],
      "metadata": {
        "id": "HIUBMFcE12hs"
      }
    },
    {
      "cell_type": "markdown",
      "source": [
        "#Comparative Analysis\n",
        "\n",
        "\n",
        "\n",
        "1.   When we compare the optimizers performance w.r.t model training **Adam** and **RMSProp** optimizers are equally good in accuracy and loss metrics.\n",
        "2.   And if we compare the performance w.r.t model testing **Adam** and **RMSProp** optimizers are very similar to their performance in accuracy and loss metrics.\n"
      ],
      "metadata": {
        "id": "XVfrkCQV3uj4"
      }
    },
    {
      "cell_type": "markdown",
      "source": [
        "###Exercise\n",
        "Modify the code to get a better testing accuracy.\n",
        "\n",
        "*  Use a different dataset.\n",
        "*Increase the number of hidden layers.\n",
        "*Increase the number of neurons in each hidden layers.\n",
        "*Compare the results of the following optimizers - SGD, Momentum, RMSProp, Adam and plot the results.\n",
        "\n",
        "\n",
        "\n",
        "\n"
      ],
      "metadata": {
        "id": "pwyyfjHXriGD"
      }
    },
    {
      "cell_type": "code",
      "source": [
        "# Use the FASHION-MNIST dataset  of Keras.\n",
        "\n",
        "fashio_mnist = tf.keras.datasets.fashion_mnist\n",
        "\n",
        "(Xtrain, Ytrain) , (Xtest, Ytest) = fashio_mnist.load_data()"
      ],
      "metadata": {
        "id": "WPpFrM6sbobf"
      },
      "execution_count": 39,
      "outputs": []
    },
    {
      "cell_type": "code",
      "execution_count": 40,
      "metadata": {
        "colab": {
          "base_uri": "https://localhost:8080/",
          "height": 276
        },
        "id": "M1L0eDCW6d4h",
        "outputId": "a160dcf4-6cc8-4c2a-ee31-0d6660fd7d4f"
      },
      "outputs": [
        {
          "output_type": "execute_result",
          "data": {
            "text/plain": [
              "Text(0.5, 1.0, 'Ground Truth (Test): 9')"
            ]
          },
          "metadata": {},
          "execution_count": 40
        },
        {
          "output_type": "display_data",
          "data": {
            "text/plain": [
              "<Figure size 500x500 with 2 Axes>"
            ],
            "image/png": "[encoded data removed]"
          },
          "metadata": {}
        }
      ],
      "source": [
        "import matplotlib.pyplot as plt\n",
        "\n",
        "plt.figure(figsize=[5,5])\n",
        "\n",
        "# Display the first image in training data\n",
        "plt.subplot(121)\n",
        "plt.imshow(Xtrain[0,:,:], cmap='gray')\n",
        "plt.title(\"Ground Truth (Train) : {}\".format(Ytrain[0]))\n",
        "\n",
        "# Display the first image in testing data\n",
        "plt.subplot(122)\n",
        "plt.imshow(Xtest[0,:,:], cmap='gray')\n",
        "plt.title(\"Ground Truth (Test): {}\".format(Ytest[0]))"
      ]
    },
    {
      "cell_type": "code",
      "execution_count": 41,
      "metadata": {
        "colab": {
          "base_uri": "https://localhost:8080/"
        },
        "id": "Rm3jemfV6d4i",
        "outputId": "eca8ad35-502b-4c3f-8971-5012ad1da56b"
      },
      "outputs": [
        {
          "output_type": "stream",
          "name": "stdout",
          "text": [
            "(60000, 28, 28)\n",
            "(10000, 28, 28)\n",
            "(60000,)\n",
            "(10000,)\n"
          ]
        }
      ],
      "source": [
        "# size of the datsets\n",
        "\n",
        "print(Xtrain.shape)\n",
        "print(Xtest.shape)\n",
        "print(Ytrain.shape)\n",
        "print(Ytest.shape)"
      ]
    },
    {
      "cell_type": "code",
      "execution_count": 42,
      "metadata": {
        "id": "7qrunz8j6d4i"
      },
      "outputs": [],
      "source": [
        "# Normalize the data\n",
        "# 60000 input images are in the train set.\n",
        "# 10000 input images are in the test set.\n",
        "\n",
        "Xtrain = Xtrain.reshape((60000, 28*28))    # reshape the input set to size 28*28.\n",
        "Xtrain = Xtrain.astype('float32')/255      # normalize to grayscale; set datatype as float32\n",
        "\n",
        "Xtest = Xtest.reshape((10000, 28*28))      # reshape the input set to size 28*28.\n",
        "Xtest = Xtest.astype('float32')/255        # normalize to grayscale; set datatype as float32\n",
        "\n",
        "Ytrain = tf.keras.utils.to_categorical(Ytrain)\n",
        "Ytest = tf.keras.utils.to_categorical(Ytest)"
      ]
    },
    {
      "cell_type": "code",
      "source": [
        "# print a sample data\n",
        "\n",
        "print('Xtrain \\n', Xtrain[10,10])\n",
        "print('Xtest \\n', Xtest[10,10])\n",
        "print('Ytrain \\n', Ytrain[10,])\n",
        "print('Ytest \\n', Ytest[10,])"
      ],
      "metadata": {
        "colab": {
          "base_uri": "https://localhost:8080/"
        },
        "id": "D-_CgsZQdyG2",
        "outputId": "0ee7c6c1-a385-43c7-f3ac-1c83d0259490"
      },
      "execution_count": 43,
      "outputs": [
        {
          "output_type": "stream",
          "name": "stdout",
          "text": [
            "Xtrain \n",
            " 0.41568628\n",
            "Xtest \n",
            " 0.0\n",
            "Ytrain \n",
            " [1. 0. 0. 0. 0. 0. 0. 0. 0. 0.]\n",
            "Ytest \n",
            " [0. 0. 0. 0. 1. 0. 0. 0. 0. 0.]\n"
          ]
        }
      ]
    },
    {
      "cell_type": "markdown",
      "metadata": {
        "id": "x87IzU1_6d4i"
      },
      "source": [
        "## DNN Model"
      ]
    },
    {
      "cell_type": "markdown",
      "metadata": {
        "id": "3H0EWj7c6d4i"
      },
      "source": [
        "Using Keras, create the DNN or Sequential Model"
      ]
    },
    {
      "cell_type": "code",
      "execution_count": 52,
      "metadata": {
        "id": "HU4lc0T76d4i"
      },
      "outputs": [],
      "source": [
        "# Create a model object\n",
        "\n",
        "dnn_Model = models.Sequential()"
      ]
    },
    {
      "cell_type": "markdown",
      "metadata": {
        "id": "kWLyGswt6d4j"
      },
      "source": [
        "Add dense layers, specifying the number of units in each layer and the activation function used in the layer."
      ]
    },
    {
      "cell_type": "code",
      "execution_count": 53,
      "metadata": {
        "colab": {
          "base_uri": "https://localhost:8080/"
        },
        "id": "CfiD7AXL6d4j",
        "outputId": "a4f97b77-5597-450b-9df1-d1a2268efd14"
      },
      "outputs": [
        {
          "output_type": "stream",
          "name": "stdout",
          "text": [
            "Model: \"sequential_13\"\n",
            "_________________________________________________________________\n",
            " Layer (type)                Output Shape              Param #   \n",
            "=================================================================\n",
            " dense_73 (Dense)            (None, 500)               392500    \n",
            "                                                                 \n",
            " dense_74 (Dense)            (None, 600)               300600    \n",
            "                                                                 \n",
            " dense_75 (Dense)            (None, 300)               180300    \n",
            "                                                                 \n",
            " dense_76 (Dense)            (None, 100)               30100     \n",
            "                                                                 \n",
            " dense_77 (Dense)            (None, 60)                6060      \n",
            "                                                                 \n",
            " dense_78 (Dense)            (None, 30)                1830      \n",
            "                                                                 \n",
            " dense_79 (Dense)            (None, 10)                310       \n",
            "                                                                 \n",
            "=================================================================\n",
            "Total params: 911700 (3.48 MB)\n",
            "Trainable params: 911700 (3.48 MB)\n",
            "Non-trainable params: 0 (0.00 Byte)\n",
            "_________________________________________________________________\n"
          ]
        }
      ],
      "source": [
        "# Layer 1 = input layer\n",
        "# specify the input size in the first layer.\n",
        "#we have increased the hidden layers as well as the number of neurons from here onwards\n",
        "\n",
        "dnn_Model.add(layers.Dense(500, activation='relu', input_shape= (28*28,)))\n",
        "\n",
        "# Layer 2 = hidden layer\n",
        "dnn_Model.add(layers.Dense(600, activation='relu'))\n",
        "\n",
        "# Layer 3 = hidden layer\n",
        "dnn_Model.add(layers.Dense(300, activation='relu'))\n",
        "\n",
        "# Layer 4 = hidden layer\n",
        "dnn_Model.add(layers.Dense(100, activation='relu'))\n",
        "\n",
        "# Layer 5 = hidden layer\n",
        "dnn_Model.add(layers.Dense(60, activation='relu'))\n",
        "\n",
        "# Layer 6 = hidden layer\n",
        "dnn_Model.add(layers.Dense(30, activation='relu'))\n",
        "\n",
        "\n",
        "# Layer 7 = output layer\n",
        "dnn_Model.add(layers.Dense(10, activation='softmax'))\n",
        "\n",
        "dnn_Model.summary()"
      ]
    },
    {
      "cell_type": "code",
      "source": [
        "#create model for sgd optimizer with momentum\n",
        "\n",
        "dnn_Model_sgd_m = models.Sequential()\n",
        "dnn_Model_sgd_m.add(layers.Dense(500, activation='relu', input_shape= (28*28,)))\n",
        "dnn_Model_sgd_m.add(layers.Dense(600, activation='relu'))\n",
        "dnn_Model_sgd_m.add(layers.Dense(300, activation='relu'))\n",
        "dnn_Model_sgd_m.add(layers.Dense(100, activation='relu'))\n",
        "dnn_Model_sgd_m.add(layers.Dense(60, activation='relu'))\n",
        "dnn_Model_sgd_m.add(layers.Dense(30, activation='relu'))\n",
        "dnn_Model_sgd_m.add(layers.Dense(10, activation='softmax'))\n",
        "dnn_Model_sgd_m.summary()"
      ],
      "metadata": {
        "colab": {
          "base_uri": "https://localhost:8080/"
        },
        "id": "W4wsK2xwnGOD",
        "outputId": "814eb106-0d88-4c2e-bcdd-44768a9acb66"
      },
      "execution_count": 67,
      "outputs": [
        {
          "output_type": "stream",
          "name": "stdout",
          "text": [
            "Model: \"sequential_16\"\n",
            "_________________________________________________________________\n",
            " Layer (type)                Output Shape              Param #   \n",
            "=================================================================\n",
            " dense_94 (Dense)            (None, 500)               392500    \n",
            "                                                                 \n",
            " dense_95 (Dense)            (None, 600)               300600    \n",
            "                                                                 \n",
            " dense_96 (Dense)            (None, 300)               180300    \n",
            "                                                                 \n",
            " dense_97 (Dense)            (None, 100)               30100     \n",
            "                                                                 \n",
            " dense_98 (Dense)            (None, 60)                6060      \n",
            "                                                                 \n",
            " dense_99 (Dense)            (None, 30)                1830      \n",
            "                                                                 \n",
            " dense_100 (Dense)           (None, 10)                310       \n",
            "                                                                 \n",
            "=================================================================\n",
            "Total params: 911700 (3.48 MB)\n",
            "Trainable params: 911700 (3.48 MB)\n",
            "Non-trainable params: 0 (0.00 Byte)\n",
            "_________________________________________________________________\n"
          ]
        }
      ]
    },
    {
      "cell_type": "code",
      "execution_count": 54,
      "metadata": {
        "colab": {
          "base_uri": "https://localhost:8080/"
        },
        "id": "21DEfpFv6d4j",
        "outputId": "bdc1abb5-86be-44b0-d822-242ae400f6bc"
      },
      "outputs": [
        {
          "output_type": "stream",
          "name": "stdout",
          "text": [
            "Model: \"sequential_14\"\n",
            "_________________________________________________________________\n",
            " Layer (type)                Output Shape              Param #   \n",
            "=================================================================\n",
            " dense_80 (Dense)            (None, 500)               392500    \n",
            "                                                                 \n",
            " dense_81 (Dense)            (None, 600)               300600    \n",
            "                                                                 \n",
            " dense_82 (Dense)            (None, 300)               180300    \n",
            "                                                                 \n",
            " dense_83 (Dense)            (None, 100)               30100     \n",
            "                                                                 \n",
            " dense_84 (Dense)            (None, 60)                6060      \n",
            "                                                                 \n",
            " dense_85 (Dense)            (None, 30)                1830      \n",
            "                                                                 \n",
            " dense_86 (Dense)            (None, 10)                310       \n",
            "                                                                 \n",
            "=================================================================\n",
            "Total params: 911700 (3.48 MB)\n",
            "Trainable params: 911700 (3.48 MB)\n",
            "Non-trainable params: 0 (0.00 Byte)\n",
            "_________________________________________________________________\n"
          ]
        }
      ],
      "source": [
        "#create model for adam optimizer\n",
        "\n",
        "dnn_Model_adam = models.Sequential()\n",
        "dnn_Model_adam.add(layers.Dense(500, activation='relu', input_shape= (28*28,)))\n",
        "dnn_Model_adam.add(layers.Dense(600, activation='relu'))\n",
        "dnn_Model_adam.add(layers.Dense(300, activation='relu'))\n",
        "dnn_Model_adam.add(layers.Dense(100, activation='relu'))\n",
        "dnn_Model_adam.add(layers.Dense(60, activation='relu'))\n",
        "dnn_Model_adam.add(layers.Dense(30, activation='relu'))\n",
        "dnn_Model_adam.add(layers.Dense(10, activation='softmax'))\n",
        "dnn_Model_adam.summary()"
      ]
    },
    {
      "cell_type": "code",
      "execution_count": 55,
      "metadata": {
        "colab": {
          "base_uri": "https://localhost:8080/"
        },
        "id": "5LgaweXS6d4j",
        "outputId": "50211056-f390-4700-fec9-9ebdc01e28bf"
      },
      "outputs": [
        {
          "output_type": "stream",
          "name": "stdout",
          "text": [
            "Model: \"sequential_15\"\n",
            "_________________________________________________________________\n",
            " Layer (type)                Output Shape              Param #   \n",
            "=================================================================\n",
            " dense_87 (Dense)            (None, 500)               392500    \n",
            "                                                                 \n",
            " dense_88 (Dense)            (None, 600)               300600    \n",
            "                                                                 \n",
            " dense_89 (Dense)            (None, 300)               180300    \n",
            "                                                                 \n",
            " dense_90 (Dense)            (None, 100)               30100     \n",
            "                                                                 \n",
            " dense_91 (Dense)            (None, 60)                6060      \n",
            "                                                                 \n",
            " dense_92 (Dense)            (None, 30)                1830      \n",
            "                                                                 \n",
            " dense_93 (Dense)            (None, 10)                310       \n",
            "                                                                 \n",
            "=================================================================\n",
            "Total params: 911700 (3.48 MB)\n",
            "Trainable params: 911700 (3.48 MB)\n",
            "Non-trainable params: 0 (0.00 Byte)\n",
            "_________________________________________________________________\n"
          ]
        }
      ],
      "source": [
        "#create model for rmsprop optimizer\n",
        "\n",
        "dnn_Model_rmsprop = models.Sequential()\n",
        "dnn_Model_rmsprop.add(layers.Dense(500, activation='relu', input_shape= (28*28,)))\n",
        "dnn_Model_rmsprop.add(layers.Dense(600, activation='relu'))\n",
        "dnn_Model_rmsprop.add(layers.Dense(300, activation='relu'))\n",
        "dnn_Model_rmsprop.add(layers.Dense(100, activation='relu'))\n",
        "dnn_Model_rmsprop.add(layers.Dense(60, activation='relu'))\n",
        "dnn_Model_rmsprop.add(layers.Dense(30, activation='relu'))\n",
        "dnn_Model_rmsprop.add(layers.Dense(10, activation='softmax'))\n",
        "dnn_Model_rmsprop.summary()"
      ]
    },
    {
      "cell_type": "markdown",
      "metadata": {
        "id": "K6n51H466d4j"
      },
      "source": [
        "## Regularization and Optimizations of DNN"
      ]
    },
    {
      "cell_type": "code",
      "execution_count": 68,
      "metadata": {
        "id": "a5zlk6El6d4j"
      },
      "outputs": [],
      "source": [
        "# Configure  the model for training, by using appropriate optimizers and regularizations\n",
        "# Available optimizer: adam, rmsprop, momentum, sgd\n",
        "# loss:  objective that the model will try to minimize.\n",
        "# Available loss: categorical_crossentropy, binary_crossentropy, mean_squared_error\n",
        "# metrics: List of metrics to be evaluated by the model during training and testing.\n",
        "\n",
        "\n",
        "dnn_Model.compile( optimizer = 'sgd', loss = 'categorical_crossentropy', metrics=['accuracy'])\n",
        "sgd = optimizers.SGD(learning_rate =0.01, momentum=0.9, nesterov=True)\n",
        "\n",
        "dnn_Model_sgd_m.compile(optimizer = 'sgd', loss = 'categorical_crossentropy', metrics=['accuracy']) # sgd with momentum\n",
        "dnn_Model_adam.compile( optimizer = 'adam', loss = 'categorical_crossentropy', metrics=['accuracy'] )\n",
        "dnn_Model_rmsprop.compile( optimizer = 'rmsprop', loss = 'categorical_crossentropy', metrics=['accuracy'] )"
      ]
    },
    {
      "cell_type": "markdown",
      "metadata": {
        "id": "JqiNWpEy6d4j"
      },
      "source": [
        "## Train the Model"
      ]
    },
    {
      "cell_type": "code",
      "execution_count": 70,
      "metadata": {
        "colab": {
          "base_uri": "https://localhost:8080/"
        },
        "id": "hOuI_D1L6d4j",
        "outputId": "f1d3b24a-7541-466c-f3d1-4ea5b3b43bdf"
      },
      "outputs": [
        {
          "output_type": "stream",
          "name": "stdout",
          "text": [
            "Epoch 1/50\n",
            "844/844 [==============================] - 11s 14ms/step - loss: 0.2231 - accuracy: 0.9193 - val_loss: 0.3189 - val_accuracy: 0.8867\n",
            "Epoch 2/50\n",
            "844/844 [==============================] - 17s 20ms/step - loss: 0.2188 - accuracy: 0.9194 - val_loss: 0.3067 - val_accuracy: 0.8917\n",
            "Epoch 3/50\n",
            "844/844 [==============================] - 11s 13ms/step - loss: 0.2101 - accuracy: 0.9241 - val_loss: 0.3193 - val_accuracy: 0.8893\n",
            "Epoch 4/50\n",
            "844/844 [==============================] - 16s 19ms/step - loss: 0.2067 - accuracy: 0.9239 - val_loss: 0.3272 - val_accuracy: 0.8868\n",
            "Epoch 5/50\n",
            "844/844 [==============================] - 12s 14ms/step - loss: 0.2011 - accuracy: 0.9257 - val_loss: 0.3224 - val_accuracy: 0.8887\n",
            "Epoch 6/50\n",
            "844/844 [==============================] - 12s 14ms/step - loss: 0.1951 - accuracy: 0.9295 - val_loss: 0.3466 - val_accuracy: 0.8822\n",
            "Epoch 7/50\n",
            "844/844 [==============================] - 11s 13ms/step - loss: 0.1884 - accuracy: 0.9313 - val_loss: 0.3263 - val_accuracy: 0.8893\n",
            "Epoch 8/50\n",
            "844/844 [==============================] - 11s 12ms/step - loss: 0.1860 - accuracy: 0.9324 - val_loss: 0.3228 - val_accuracy: 0.8865\n",
            "Epoch 9/50\n",
            "844/844 [==============================] - 12s 14ms/step - loss: 0.1778 - accuracy: 0.9350 - val_loss: 0.3153 - val_accuracy: 0.8890\n",
            "Epoch 10/50\n",
            "844/844 [==============================] - 12s 14ms/step - loss: 0.1728 - accuracy: 0.9374 - val_loss: 0.3473 - val_accuracy: 0.8838\n",
            "Epoch 11/50\n",
            "844/844 [==============================] - 14s 17ms/step - loss: 0.1680 - accuracy: 0.9392 - val_loss: 0.3403 - val_accuracy: 0.8897\n",
            "Epoch 12/50\n",
            "844/844 [==============================] - 12s 14ms/step - loss: 0.1636 - accuracy: 0.9398 - val_loss: 0.3730 - val_accuracy: 0.8817\n",
            "Epoch 13/50\n",
            "844/844 [==============================] - 15s 18ms/step - loss: 0.1576 - accuracy: 0.9434 - val_loss: 0.3285 - val_accuracy: 0.8920\n",
            "Epoch 14/50\n",
            "844/844 [==============================] - 13s 15ms/step - loss: 0.1556 - accuracy: 0.9427 - val_loss: 0.3755 - val_accuracy: 0.8757\n",
            "Epoch 15/50\n",
            "844/844 [==============================] - 14s 17ms/step - loss: 0.1502 - accuracy: 0.9455 - val_loss: 0.3359 - val_accuracy: 0.8885\n",
            "Epoch 16/50\n",
            "844/844 [==============================] - 12s 14ms/step - loss: 0.1456 - accuracy: 0.9466 - val_loss: 0.3354 - val_accuracy: 0.8940\n",
            "Epoch 17/50\n",
            "844/844 [==============================] - 10s 12ms/step - loss: 0.1401 - accuracy: 0.9485 - val_loss: 0.3429 - val_accuracy: 0.8920\n",
            "Epoch 18/50\n",
            "844/844 [==============================] - 10s 12ms/step - loss: 0.1345 - accuracy: 0.9506 - val_loss: 0.3757 - val_accuracy: 0.8847\n",
            "Epoch 19/50\n",
            "844/844 [==============================] - 10s 12ms/step - loss: 0.1293 - accuracy: 0.9524 - val_loss: 0.3713 - val_accuracy: 0.8882\n",
            "Epoch 20/50\n",
            "844/844 [==============================] - 10s 12ms/step - loss: 0.1268 - accuracy: 0.9535 - val_loss: 0.4327 - val_accuracy: 0.8758\n",
            "Epoch 21/50\n",
            "844/844 [==============================] - 9s 11ms/step - loss: 0.1226 - accuracy: 0.9549 - val_loss: 0.3758 - val_accuracy: 0.8850\n",
            "Epoch 22/50\n",
            "844/844 [==============================] - 10s 12ms/step - loss: 0.1184 - accuracy: 0.9568 - val_loss: 0.4489 - val_accuracy: 0.8650\n",
            "Epoch 23/50\n",
            "844/844 [==============================] - 10s 12ms/step - loss: 0.1139 - accuracy: 0.9584 - val_loss: 0.5982 - val_accuracy: 0.8390\n",
            "Epoch 24/50\n",
            "844/844 [==============================] - 10s 11ms/step - loss: 0.1117 - accuracy: 0.9599 - val_loss: 0.3678 - val_accuracy: 0.8917\n",
            "Epoch 25/50\n",
            "844/844 [==============================] - 10s 11ms/step - loss: 0.1082 - accuracy: 0.9611 - val_loss: 0.4084 - val_accuracy: 0.8865\n",
            "Epoch 26/50\n",
            "844/844 [==============================] - 9s 10ms/step - loss: 0.1047 - accuracy: 0.9617 - val_loss: 0.3770 - val_accuracy: 0.8952\n",
            "Epoch 27/50\n",
            "844/844 [==============================] - 10s 12ms/step - loss: 0.1101 - accuracy: 0.9617 - val_loss: 0.3876 - val_accuracy: 0.8888\n",
            "Epoch 28/50\n",
            "844/844 [==============================] - 10s 12ms/step - loss: 0.1051 - accuracy: 0.9616 - val_loss: 0.4619 - val_accuracy: 0.8777\n",
            "Epoch 29/50\n",
            "844/844 [==============================] - 10s 12ms/step - loss: 0.0980 - accuracy: 0.9637 - val_loss: 0.3869 - val_accuracy: 0.8922\n",
            "Epoch 30/50\n",
            "844/844 [==============================] - 9s 10ms/step - loss: 0.0924 - accuracy: 0.9654 - val_loss: 0.3947 - val_accuracy: 0.8875\n",
            "Epoch 31/50\n",
            "844/844 [==============================] - 10s 12ms/step - loss: 0.0922 - accuracy: 0.9658 - val_loss: 0.4232 - val_accuracy: 0.8850\n",
            "Epoch 32/50\n",
            "844/844 [==============================] - 10s 12ms/step - loss: 0.0863 - accuracy: 0.9685 - val_loss: 0.4184 - val_accuracy: 0.8878\n",
            "Epoch 33/50\n",
            "844/844 [==============================] - 10s 12ms/step - loss: 0.0829 - accuracy: 0.9711 - val_loss: 0.4453 - val_accuracy: 0.8893\n",
            "Epoch 34/50\n",
            "844/844 [==============================] - 10s 12ms/step - loss: 0.0782 - accuracy: 0.9719 - val_loss: 0.4235 - val_accuracy: 0.8883\n",
            "Epoch 35/50\n",
            "844/844 [==============================] - 9s 11ms/step - loss: 0.0813 - accuracy: 0.9705 - val_loss: 0.4425 - val_accuracy: 0.8848\n",
            "Epoch 36/50\n",
            "844/844 [==============================] - 9s 11ms/step - loss: 0.0761 - accuracy: 0.9727 - val_loss: 0.4579 - val_accuracy: 0.8805\n",
            "Epoch 37/50\n",
            "844/844 [==============================] - 10s 12ms/step - loss: 0.0702 - accuracy: 0.9744 - val_loss: 0.4244 - val_accuracy: 0.8920\n",
            "Epoch 38/50\n",
            "844/844 [==============================] - 10s 12ms/step - loss: 0.0684 - accuracy: 0.9756 - val_loss: 0.4338 - val_accuracy: 0.8940\n",
            "Epoch 39/50\n",
            "844/844 [==============================] - 10s 12ms/step - loss: 0.0665 - accuracy: 0.9764 - val_loss: 0.4765 - val_accuracy: 0.8870\n",
            "Epoch 40/50\n",
            "844/844 [==============================] - 9s 11ms/step - loss: 0.0656 - accuracy: 0.9763 - val_loss: 0.4934 - val_accuracy: 0.8847\n",
            "Epoch 41/50\n",
            "844/844 [==============================] - 10s 12ms/step - loss: 0.0591 - accuracy: 0.9796 - val_loss: 0.4400 - val_accuracy: 0.8933\n",
            "Epoch 42/50\n",
            "844/844 [==============================] - 10s 12ms/step - loss: 0.0607 - accuracy: 0.9782 - val_loss: 0.4599 - val_accuracy: 0.8913\n",
            "Epoch 43/50\n",
            "844/844 [==============================] - 10s 12ms/step - loss: 0.0561 - accuracy: 0.9802 - val_loss: 0.5847 - val_accuracy: 0.8650\n",
            "Epoch 44/50\n",
            "844/844 [==============================] - 10s 12ms/step - loss: 0.0568 - accuracy: 0.9796 - val_loss: 0.4982 - val_accuracy: 0.8927\n",
            "Epoch 45/50\n",
            "844/844 [==============================] - 9s 11ms/step - loss: 0.0555 - accuracy: 0.9800 - val_loss: 0.4686 - val_accuracy: 0.8900\n",
            "Epoch 46/50\n",
            "844/844 [==============================] - 10s 12ms/step - loss: 0.0518 - accuracy: 0.9812 - val_loss: 0.4674 - val_accuracy: 0.8908\n",
            "Epoch 47/50\n",
            "844/844 [==============================] - 11s 13ms/step - loss: 0.0531 - accuracy: 0.9809 - val_loss: 0.4767 - val_accuracy: 0.8870\n",
            "Epoch 48/50\n",
            "844/844 [==============================] - 10s 12ms/step - loss: 0.0467 - accuracy: 0.9831 - val_loss: 0.4581 - val_accuracy: 0.8947\n",
            "Epoch 49/50\n",
            "844/844 [==============================] - 9s 11ms/step - loss: 0.0478 - accuracy: 0.9831 - val_loss: 0.4879 - val_accuracy: 0.8935\n",
            "Epoch 50/50\n",
            "844/844 [==============================] - 9s 11ms/step - loss: 0.0500 - accuracy: 0.9819 - val_loss: 0.5032 - val_accuracy: 0.8907\n",
            "Epoch 1/50\n",
            "844/844 [==============================] - 10s 11ms/step - loss: 1.0826 - accuracy: 0.6329 - val_loss: 0.5867 - val_accuracy: 0.7962\n",
            "Epoch 2/50\n",
            "844/844 [==============================] - 9s 11ms/step - loss: 0.5447 - accuracy: 0.8091 - val_loss: 0.4889 - val_accuracy: 0.8247\n",
            "Epoch 3/50\n",
            "844/844 [==============================] - 10s 12ms/step - loss: 0.4692 - accuracy: 0.8334 - val_loss: 0.4410 - val_accuracy: 0.8433\n",
            "Epoch 4/50\n",
            "844/844 [==============================] - 10s 12ms/step - loss: 0.4280 - accuracy: 0.8462 - val_loss: 0.4327 - val_accuracy: 0.8327\n",
            "Epoch 5/50\n",
            "844/844 [==============================] - 10s 12ms/step - loss: 0.3975 - accuracy: 0.8577 - val_loss: 0.3888 - val_accuracy: 0.8597\n",
            "Epoch 6/50\n",
            "844/844 [==============================] - 9s 11ms/step - loss: 0.3763 - accuracy: 0.8654 - val_loss: 0.4100 - val_accuracy: 0.8577\n",
            "Epoch 7/50\n",
            "844/844 [==============================] - 10s 11ms/step - loss: 0.3562 - accuracy: 0.8717 - val_loss: 0.3725 - val_accuracy: 0.8625\n",
            "Epoch 8/50\n",
            "844/844 [==============================] - 10s 11ms/step - loss: 0.3423 - accuracy: 0.8767 - val_loss: 0.3625 - val_accuracy: 0.8715\n",
            "Epoch 9/50\n",
            "844/844 [==============================] - 10s 12ms/step - loss: 0.3293 - accuracy: 0.8795 - val_loss: 0.3464 - val_accuracy: 0.8750\n",
            "Epoch 10/50\n",
            "844/844 [==============================] - 10s 12ms/step - loss: 0.3166 - accuracy: 0.8854 - val_loss: 0.3476 - val_accuracy: 0.8780\n",
            "Epoch 11/50\n",
            "844/844 [==============================] - 11s 13ms/step - loss: 0.3060 - accuracy: 0.8885 - val_loss: 0.3468 - val_accuracy: 0.8772\n",
            "Epoch 12/50\n",
            "844/844 [==============================] - 10s 12ms/step - loss: 0.2956 - accuracy: 0.8923 - val_loss: 0.3426 - val_accuracy: 0.8727\n",
            "Epoch 13/50\n",
            "844/844 [==============================] - 10s 12ms/step - loss: 0.2864 - accuracy: 0.8961 - val_loss: 0.3241 - val_accuracy: 0.8828\n",
            "Epoch 14/50\n",
            "844/844 [==============================] - 11s 13ms/step - loss: 0.2795 - accuracy: 0.8976 - val_loss: 0.3510 - val_accuracy: 0.8765\n",
            "Epoch 15/50\n",
            "844/844 [==============================] - 11s 13ms/step - loss: 0.2719 - accuracy: 0.9013 - val_loss: 0.3278 - val_accuracy: 0.8802\n",
            "Epoch 16/50\n",
            "844/844 [==============================] - 10s 12ms/step - loss: 0.2637 - accuracy: 0.9031 - val_loss: 0.3086 - val_accuracy: 0.8908\n",
            "Epoch 17/50\n",
            "844/844 [==============================] - 10s 12ms/step - loss: 0.2556 - accuracy: 0.9070 - val_loss: 0.3124 - val_accuracy: 0.8873\n",
            "Epoch 18/50\n",
            "844/844 [==============================] - 10s 12ms/step - loss: 0.2477 - accuracy: 0.9098 - val_loss: 0.3410 - val_accuracy: 0.8782\n",
            "Epoch 19/50\n",
            "844/844 [==============================] - 11s 13ms/step - loss: 0.2414 - accuracy: 0.9115 - val_loss: 0.3474 - val_accuracy: 0.8803\n",
            "Epoch 20/50\n",
            "844/844 [==============================] - 11s 13ms/step - loss: 0.2365 - accuracy: 0.9122 - val_loss: 0.3192 - val_accuracy: 0.8895\n",
            "Epoch 21/50\n",
            "844/844 [==============================] - 10s 12ms/step - loss: 0.2278 - accuracy: 0.9167 - val_loss: 0.3051 - val_accuracy: 0.8927\n",
            "Epoch 22/50\n",
            "844/844 [==============================] - 10s 12ms/step - loss: 0.2201 - accuracy: 0.9193 - val_loss: 0.3552 - val_accuracy: 0.8748\n",
            "Epoch 23/50\n",
            "844/844 [==============================] - 11s 13ms/step - loss: 0.2159 - accuracy: 0.9209 - val_loss: 0.3368 - val_accuracy: 0.8770\n",
            "Epoch 24/50\n",
            "844/844 [==============================] - 11s 13ms/step - loss: 0.2107 - accuracy: 0.9226 - val_loss: 0.3162 - val_accuracy: 0.8847\n",
            "Epoch 25/50\n",
            "844/844 [==============================] - 10s 12ms/step - loss: 0.2044 - accuracy: 0.9252 - val_loss: 0.3387 - val_accuracy: 0.8840\n",
            "Epoch 26/50\n",
            "844/844 [==============================] - 11s 12ms/step - loss: 0.2010 - accuracy: 0.9259 - val_loss: 0.3099 - val_accuracy: 0.8912\n",
            "Epoch 27/50\n",
            "844/844 [==============================] - 10s 12ms/step - loss: 0.1929 - accuracy: 0.9297 - val_loss: 0.3225 - val_accuracy: 0.8913\n",
            "Epoch 28/50\n",
            "844/844 [==============================] - 10s 12ms/step - loss: 0.1871 - accuracy: 0.9319 - val_loss: 0.3656 - val_accuracy: 0.8763\n",
            "Epoch 29/50\n",
            "844/844 [==============================] - 10s 12ms/step - loss: 0.1829 - accuracy: 0.9320 - val_loss: 0.3156 - val_accuracy: 0.8903\n",
            "Epoch 30/50\n",
            "844/844 [==============================] - 9s 11ms/step - loss: 0.1773 - accuracy: 0.9350 - val_loss: 0.3094 - val_accuracy: 0.8922\n",
            "Epoch 31/50\n",
            "844/844 [==============================] - 10s 12ms/step - loss: 0.1729 - accuracy: 0.9366 - val_loss: 0.3253 - val_accuracy: 0.8893\n",
            "Epoch 32/50\n",
            "844/844 [==============================] - 10s 12ms/step - loss: 0.1663 - accuracy: 0.9389 - val_loss: 0.3219 - val_accuracy: 0.8918\n",
            "Epoch 33/50\n",
            "844/844 [==============================] - 10s 12ms/step - loss: 0.1597 - accuracy: 0.9416 - val_loss: 0.3419 - val_accuracy: 0.8912\n",
            "Epoch 34/50\n",
            "844/844 [==============================] - 10s 12ms/step - loss: 0.1560 - accuracy: 0.9439 - val_loss: 0.3690 - val_accuracy: 0.8820\n",
            "Epoch 35/50\n",
            "844/844 [==============================] - 10s 11ms/step - loss: 0.1506 - accuracy: 0.9437 - val_loss: 0.3333 - val_accuracy: 0.8925\n",
            "Epoch 36/50\n",
            "844/844 [==============================] - 10s 11ms/step - loss: 0.1483 - accuracy: 0.9454 - val_loss: 0.3657 - val_accuracy: 0.8813\n",
            "Epoch 37/50\n",
            "844/844 [==============================] - 10s 12ms/step - loss: 0.1423 - accuracy: 0.9488 - val_loss: 0.3582 - val_accuracy: 0.8865\n",
            "Epoch 38/50\n",
            "844/844 [==============================] - 10s 12ms/step - loss: 0.1366 - accuracy: 0.9499 - val_loss: 0.3384 - val_accuracy: 0.8933\n",
            "Epoch 39/50\n",
            "844/844 [==============================] - 10s 12ms/step - loss: 0.1325 - accuracy: 0.9513 - val_loss: 0.3587 - val_accuracy: 0.8857\n",
            "Epoch 40/50\n",
            "844/844 [==============================] - 10s 12ms/step - loss: 0.1288 - accuracy: 0.9532 - val_loss: 0.3299 - val_accuracy: 0.8970\n",
            "Epoch 41/50\n",
            "844/844 [==============================] - 10s 12ms/step - loss: 0.1261 - accuracy: 0.9546 - val_loss: 0.3660 - val_accuracy: 0.8872\n",
            "Epoch 42/50\n",
            "844/844 [==============================] - 10s 12ms/step - loss: 0.1213 - accuracy: 0.9560 - val_loss: 0.3556 - val_accuracy: 0.8932\n",
            "Epoch 43/50\n",
            "844/844 [==============================] - 10s 12ms/step - loss: 0.1165 - accuracy: 0.9575 - val_loss: 0.3975 - val_accuracy: 0.8787\n",
            "Epoch 44/50\n",
            "844/844 [==============================] - 10s 12ms/step - loss: 0.1141 - accuracy: 0.9586 - val_loss: 0.3791 - val_accuracy: 0.8905\n",
            "Epoch 45/50\n",
            "844/844 [==============================] - 10s 12ms/step - loss: 0.1100 - accuracy: 0.9599 - val_loss: 0.3702 - val_accuracy: 0.8905\n",
            "Epoch 46/50\n",
            "844/844 [==============================] - 9s 11ms/step - loss: 0.1077 - accuracy: 0.9602 - val_loss: 0.3892 - val_accuracy: 0.8847\n",
            "Epoch 47/50\n",
            "844/844 [==============================] - 10s 12ms/step - loss: 0.1034 - accuracy: 0.9622 - val_loss: 0.4072 - val_accuracy: 0.8883\n",
            "Epoch 48/50\n",
            "844/844 [==============================] - 11s 13ms/step - loss: 0.0955 - accuracy: 0.9652 - val_loss: 0.3598 - val_accuracy: 0.8925\n",
            "Epoch 49/50\n",
            "844/844 [==============================] - 10s 12ms/step - loss: 0.0964 - accuracy: 0.9651 - val_loss: 0.3825 - val_accuracy: 0.8892\n",
            "Epoch 50/50\n",
            "844/844 [==============================] - 10s 12ms/step - loss: 0.0914 - accuracy: 0.9669 - val_loss: 0.3765 - val_accuracy: 0.8927\n",
            "Epoch 1/50\n",
            "844/844 [==============================] - 16s 18ms/step - loss: 0.5316 - accuracy: 0.8077 - val_loss: 0.4179 - val_accuracy: 0.8408\n",
            "Epoch 2/50\n",
            "844/844 [==============================] - 14s 16ms/step - loss: 0.3771 - accuracy: 0.8635 - val_loss: 0.3843 - val_accuracy: 0.8637\n",
            "Epoch 3/50\n",
            "844/844 [==============================] - 14s 17ms/step - loss: 0.3406 - accuracy: 0.8744 - val_loss: 0.3439 - val_accuracy: 0.8742\n",
            "Epoch 4/50\n",
            "844/844 [==============================] - 14s 16ms/step - loss: 0.3157 - accuracy: 0.8848 - val_loss: 0.3395 - val_accuracy: 0.8803\n",
            "Epoch 5/50\n",
            "844/844 [==============================] - 13s 16ms/step - loss: 0.3006 - accuracy: 0.8891 - val_loss: 0.3259 - val_accuracy: 0.8807\n",
            "Epoch 6/50\n",
            "844/844 [==============================] - 14s 16ms/step - loss: 0.2792 - accuracy: 0.8966 - val_loss: 0.3412 - val_accuracy: 0.8805\n",
            "Epoch 7/50\n",
            "844/844 [==============================] - 14s 16ms/step - loss: 0.2701 - accuracy: 0.8988 - val_loss: 0.3376 - val_accuracy: 0.8800\n",
            "Epoch 8/50\n",
            "844/844 [==============================] - 13s 16ms/step - loss: 0.2561 - accuracy: 0.9043 - val_loss: 0.3132 - val_accuracy: 0.8890\n",
            "Epoch 9/50\n",
            "844/844 [==============================] - 14s 16ms/step - loss: 0.2491 - accuracy: 0.9064 - val_loss: 0.3220 - val_accuracy: 0.8863\n",
            "Epoch 10/50\n",
            "844/844 [==============================] - 14s 17ms/step - loss: 0.2358 - accuracy: 0.9115 - val_loss: 0.3337 - val_accuracy: 0.8878\n",
            "Epoch 11/50\n",
            "844/844 [==============================] - 14s 16ms/step - loss: 0.2262 - accuracy: 0.9154 - val_loss: 0.3753 - val_accuracy: 0.8848\n",
            "Epoch 12/50\n",
            "844/844 [==============================] - 14s 17ms/step - loss: 0.2210 - accuracy: 0.9163 - val_loss: 0.3373 - val_accuracy: 0.8783\n",
            "Epoch 13/50\n",
            "844/844 [==============================] - 13s 16ms/step - loss: 0.2144 - accuracy: 0.9193 - val_loss: 0.3348 - val_accuracy: 0.8912\n",
            "Epoch 14/50\n",
            "844/844 [==============================] - 13s 16ms/step - loss: 0.2073 - accuracy: 0.9226 - val_loss: 0.3273 - val_accuracy: 0.8910\n",
            "Epoch 15/50\n",
            "844/844 [==============================] - 14s 16ms/step - loss: 0.1994 - accuracy: 0.9247 - val_loss: 0.3652 - val_accuracy: 0.8915\n",
            "Epoch 16/50\n",
            "844/844 [==============================] - 14s 16ms/step - loss: 0.1903 - accuracy: 0.9280 - val_loss: 0.3442 - val_accuracy: 0.8917\n",
            "Epoch 17/50\n",
            "844/844 [==============================] - 14s 16ms/step - loss: 0.1868 - accuracy: 0.9297 - val_loss: 0.3359 - val_accuracy: 0.9010\n",
            "Epoch 18/50\n",
            "844/844 [==============================] - 13s 16ms/step - loss: 0.1783 - accuracy: 0.9321 - val_loss: 0.3412 - val_accuracy: 0.8960\n",
            "Epoch 19/50\n",
            "844/844 [==============================] - 13s 16ms/step - loss: 0.1767 - accuracy: 0.9339 - val_loss: 0.3596 - val_accuracy: 0.8958\n",
            "Epoch 20/50\n",
            "844/844 [==============================] - 13s 16ms/step - loss: 0.1675 - accuracy: 0.9355 - val_loss: 0.3464 - val_accuracy: 0.8927\n",
            "Epoch 21/50\n",
            "844/844 [==============================] - 13s 15ms/step - loss: 0.1620 - accuracy: 0.9371 - val_loss: 0.4541 - val_accuracy: 0.8898\n",
            "Epoch 22/50\n",
            "844/844 [==============================] - 13s 16ms/step - loss: 0.1618 - accuracy: 0.9385 - val_loss: 0.3508 - val_accuracy: 0.8953\n",
            "Epoch 23/50\n",
            "844/844 [==============================] - 13s 16ms/step - loss: 0.1542 - accuracy: 0.9406 - val_loss: 0.4079 - val_accuracy: 0.8898\n",
            "Epoch 24/50\n",
            "844/844 [==============================] - 15s 17ms/step - loss: 0.1490 - accuracy: 0.9423 - val_loss: 0.3733 - val_accuracy: 0.8943\n",
            "Epoch 25/50\n",
            "844/844 [==============================] - 13s 16ms/step - loss: 0.1471 - accuracy: 0.9435 - val_loss: 0.4288 - val_accuracy: 0.8977\n",
            "Epoch 26/50\n",
            "844/844 [==============================] - 14s 16ms/step - loss: 0.1386 - accuracy: 0.9464 - val_loss: 0.3664 - val_accuracy: 0.8953\n",
            "Epoch 27/50\n",
            "844/844 [==============================] - 13s 16ms/step - loss: 0.1368 - accuracy: 0.9470 - val_loss: 0.4051 - val_accuracy: 0.8882\n",
            "Epoch 28/50\n",
            "844/844 [==============================] - 13s 16ms/step - loss: 0.1330 - accuracy: 0.9486 - val_loss: 0.4306 - val_accuracy: 0.8935\n",
            "Epoch 29/50\n",
            "844/844 [==============================] - 13s 16ms/step - loss: 0.1294 - accuracy: 0.9494 - val_loss: 0.4547 - val_accuracy: 0.8962\n",
            "Epoch 30/50\n",
            "844/844 [==============================] - 14s 17ms/step - loss: 0.1230 - accuracy: 0.9518 - val_loss: 0.4438 - val_accuracy: 0.8957\n",
            "Epoch 31/50\n",
            "844/844 [==============================] - 13s 16ms/step - loss: 0.1191 - accuracy: 0.9536 - val_loss: 0.4645 - val_accuracy: 0.8880\n",
            "Epoch 32/50\n",
            "844/844 [==============================] - 13s 16ms/step - loss: 0.1216 - accuracy: 0.9530 - val_loss: 0.4404 - val_accuracy: 0.8915\n",
            "Epoch 33/50\n",
            "844/844 [==============================] - 13s 16ms/step - loss: 0.1153 - accuracy: 0.9564 - val_loss: 0.4764 - val_accuracy: 0.8897\n",
            "Epoch 34/50\n",
            "844/844 [==============================] - 13s 16ms/step - loss: 0.1113 - accuracy: 0.9574 - val_loss: 0.4582 - val_accuracy: 0.8940\n",
            "Epoch 35/50\n",
            "844/844 [==============================] - 13s 16ms/step - loss: 0.1113 - accuracy: 0.9574 - val_loss: 0.4300 - val_accuracy: 0.8868\n",
            "Epoch 36/50\n",
            "844/844 [==============================] - 14s 17ms/step - loss: 0.1085 - accuracy: 0.9589 - val_loss: 0.4401 - val_accuracy: 0.8918\n",
            "Epoch 37/50\n",
            "844/844 [==============================] - 13s 16ms/step - loss: 0.1030 - accuracy: 0.9600 - val_loss: 0.4957 - val_accuracy: 0.8938\n",
            "Epoch 38/50\n",
            "844/844 [==============================] - 13s 16ms/step - loss: 0.1047 - accuracy: 0.9598 - val_loss: 0.4596 - val_accuracy: 0.8982\n",
            "Epoch 39/50\n",
            "844/844 [==============================] - 13s 16ms/step - loss: 0.0928 - accuracy: 0.9642 - val_loss: 0.5548 - val_accuracy: 0.8895\n",
            "Epoch 40/50\n",
            "844/844 [==============================] - 14s 16ms/step - loss: 0.0985 - accuracy: 0.9623 - val_loss: 0.5131 - val_accuracy: 0.8947\n",
            "Epoch 41/50\n",
            "844/844 [==============================] - 13s 16ms/step - loss: 0.0903 - accuracy: 0.9659 - val_loss: 0.5393 - val_accuracy: 0.8863\n",
            "Epoch 42/50\n",
            "844/844 [==============================] - 13s 16ms/step - loss: 0.0893 - accuracy: 0.9655 - val_loss: 0.5443 - val_accuracy: 0.8938\n",
            "Epoch 43/50\n",
            "844/844 [==============================] - 14s 17ms/step - loss: 0.0895 - accuracy: 0.9655 - val_loss: 0.5523 - val_accuracy: 0.8930\n",
            "Epoch 44/50\n",
            "844/844 [==============================] - 13s 16ms/step - loss: 0.0836 - accuracy: 0.9693 - val_loss: 0.5237 - val_accuracy: 0.8932\n",
            "Epoch 45/50\n",
            "844/844 [==============================] - 13s 16ms/step - loss: 0.0806 - accuracy: 0.9691 - val_loss: 0.5855 - val_accuracy: 0.8920\n",
            "Epoch 46/50\n",
            "844/844 [==============================] - 13s 16ms/step - loss: 0.0854 - accuracy: 0.9685 - val_loss: 0.5213 - val_accuracy: 0.8950\n",
            "Epoch 47/50\n",
            "844/844 [==============================] - 14s 16ms/step - loss: 0.0837 - accuracy: 0.9687 - val_loss: 0.5402 - val_accuracy: 0.8878\n",
            "Epoch 48/50\n",
            "844/844 [==============================] - 14s 16ms/step - loss: 0.0744 - accuracy: 0.9721 - val_loss: 0.5153 - val_accuracy: 0.8955\n",
            "Epoch 49/50\n",
            "844/844 [==============================] - 14s 16ms/step - loss: 0.0727 - accuracy: 0.9724 - val_loss: 0.6112 - val_accuracy: 0.8907\n",
            "Epoch 50/50\n",
            "844/844 [==============================] - 14s 16ms/step - loss: 0.0742 - accuracy: 0.9719 - val_loss: 0.5920 - val_accuracy: 0.8933\n",
            "Epoch 1/50\n",
            "844/844 [==============================] - 13s 15ms/step - loss: 0.5915 - accuracy: 0.7817 - val_loss: 0.4214 - val_accuracy: 0.8412\n",
            "Epoch 2/50\n",
            "844/844 [==============================] - 12s 15ms/step - loss: 0.4069 - accuracy: 0.8534 - val_loss: 0.3973 - val_accuracy: 0.8663\n",
            "Epoch 3/50\n",
            "844/844 [==============================] - 13s 15ms/step - loss: 0.3619 - accuracy: 0.8688 - val_loss: 0.3860 - val_accuracy: 0.8673\n",
            "Epoch 4/50\n",
            "844/844 [==============================] - 12s 15ms/step - loss: 0.3374 - accuracy: 0.8770 - val_loss: 0.3758 - val_accuracy: 0.8772\n",
            "Epoch 5/50\n",
            "844/844 [==============================] - 13s 15ms/step - loss: 0.3210 - accuracy: 0.8846 - val_loss: 0.3387 - val_accuracy: 0.8823\n",
            "Epoch 6/50\n",
            "844/844 [==============================] - 13s 15ms/step - loss: 0.3084 - accuracy: 0.8896 - val_loss: 0.3829 - val_accuracy: 0.8763\n",
            "Epoch 7/50\n",
            "844/844 [==============================] - 13s 15ms/step - loss: 0.3025 - accuracy: 0.8916 - val_loss: 0.3968 - val_accuracy: 0.8722\n",
            "Epoch 8/50\n",
            "844/844 [==============================] - 12s 14ms/step - loss: 0.2955 - accuracy: 0.8946 - val_loss: 0.3650 - val_accuracy: 0.8673\n",
            "Epoch 9/50\n",
            "844/844 [==============================] - 13s 15ms/step - loss: 0.2900 - accuracy: 0.8974 - val_loss: 0.3617 - val_accuracy: 0.8777\n",
            "Epoch 10/50\n",
            "844/844 [==============================] - 13s 16ms/step - loss: 0.2881 - accuracy: 0.8980 - val_loss: 0.3782 - val_accuracy: 0.8840\n",
            "Epoch 11/50\n",
            "844/844 [==============================] - 12s 14ms/step - loss: 0.2863 - accuracy: 0.8992 - val_loss: 0.4404 - val_accuracy: 0.8842\n",
            "Epoch 12/50\n",
            "844/844 [==============================] - 13s 15ms/step - loss: 0.2877 - accuracy: 0.9009 - val_loss: 0.4510 - val_accuracy: 0.8667\n",
            "Epoch 13/50\n",
            "844/844 [==============================] - 12s 15ms/step - loss: 0.2927 - accuracy: 0.8994 - val_loss: 0.4051 - val_accuracy: 0.8803\n",
            "Epoch 14/50\n",
            "844/844 [==============================] - 12s 14ms/step - loss: 0.3077 - accuracy: 0.8984 - val_loss: 0.5131 - val_accuracy: 0.8697\n",
            "Epoch 15/50\n",
            "844/844 [==============================] - 12s 14ms/step - loss: 0.2947 - accuracy: 0.9002 - val_loss: 0.4611 - val_accuracy: 0.8763\n",
            "Epoch 16/50\n",
            "844/844 [==============================] - 12s 15ms/step - loss: 0.3042 - accuracy: 0.8986 - val_loss: 0.4353 - val_accuracy: 0.8897\n",
            "Epoch 17/50\n",
            "844/844 [==============================] - 12s 15ms/step - loss: 0.3045 - accuracy: 0.8979 - val_loss: 0.5955 - val_accuracy: 0.8850\n",
            "Epoch 18/50\n",
            "844/844 [==============================] - 12s 14ms/step - loss: 0.2968 - accuracy: 0.8990 - val_loss: 0.7471 - val_accuracy: 0.8327\n",
            "Epoch 19/50\n",
            "844/844 [==============================] - 12s 15ms/step - loss: 0.3104 - accuracy: 0.8991 - val_loss: 0.6834 - val_accuracy: 0.8538\n",
            "Epoch 20/50\n",
            "844/844 [==============================] - 12s 15ms/step - loss: 0.3112 - accuracy: 0.8987 - val_loss: 0.5359 - val_accuracy: 0.8718\n",
            "Epoch 21/50\n",
            "844/844 [==============================] - 12s 15ms/step - loss: 0.3188 - accuracy: 0.8997 - val_loss: 0.4468 - val_accuracy: 0.8855\n",
            "Epoch 22/50\n",
            "844/844 [==============================] - 13s 15ms/step - loss: 0.3181 - accuracy: 0.8993 - val_loss: 0.5304 - val_accuracy: 0.8795\n",
            "Epoch 23/50\n",
            "844/844 [==============================] - 13s 16ms/step - loss: 0.3097 - accuracy: 0.9000 - val_loss: 0.6480 - val_accuracy: 0.8727\n",
            "Epoch 24/50\n",
            "844/844 [==============================] - 12s 15ms/step - loss: 0.3094 - accuracy: 0.8993 - val_loss: 0.6811 - val_accuracy: 0.8868\n",
            "Epoch 25/50\n",
            "844/844 [==============================] - 13s 15ms/step - loss: 0.3085 - accuracy: 0.9025 - val_loss: 0.6577 - val_accuracy: 0.8753\n",
            "Epoch 26/50\n",
            "844/844 [==============================] - 12s 15ms/step - loss: 0.3191 - accuracy: 0.9005 - val_loss: 0.7407 - val_accuracy: 0.8805\n",
            "Epoch 27/50\n",
            "844/844 [==============================] - 12s 15ms/step - loss: 0.3263 - accuracy: 0.9007 - val_loss: 0.7491 - val_accuracy: 0.8812\n",
            "Epoch 28/50\n",
            "844/844 [==============================] - 13s 15ms/step - loss: 0.3218 - accuracy: 0.9016 - val_loss: 0.9874 - val_accuracy: 0.8698\n",
            "Epoch 29/50\n",
            "844/844 [==============================] - 12s 15ms/step - loss: 0.3168 - accuracy: 0.9007 - val_loss: 1.1407 - val_accuracy: 0.8727\n",
            "Epoch 30/50\n",
            "844/844 [==============================] - 12s 14ms/step - loss: 0.3167 - accuracy: 0.9031 - val_loss: 0.9942 - val_accuracy: 0.8710\n",
            "Epoch 31/50\n",
            "844/844 [==============================] - 12s 15ms/step - loss: 0.3433 - accuracy: 0.9009 - val_loss: 0.7769 - val_accuracy: 0.8745\n",
            "Epoch 32/50\n",
            "844/844 [==============================] - 13s 15ms/step - loss: 0.3341 - accuracy: 0.9050 - val_loss: 0.8386 - val_accuracy: 0.8480\n",
            "Epoch 33/50\n",
            "844/844 [==============================] - 12s 15ms/step - loss: 0.3222 - accuracy: 0.9053 - val_loss: 1.3610 - val_accuracy: 0.8758\n",
            "Epoch 34/50\n",
            "844/844 [==============================] - 12s 14ms/step - loss: 0.3372 - accuracy: 0.9014 - val_loss: 1.5125 - val_accuracy: 0.8710\n",
            "Epoch 35/50\n",
            "844/844 [==============================] - 13s 16ms/step - loss: 0.3186 - accuracy: 0.9040 - val_loss: 0.9524 - val_accuracy: 0.8658\n",
            "Epoch 36/50\n",
            "844/844 [==============================] - 13s 15ms/step - loss: 0.3209 - accuracy: 0.9037 - val_loss: 1.8874 - val_accuracy: 0.8558\n",
            "Epoch 37/50\n",
            "844/844 [==============================] - 12s 14ms/step - loss: 0.3446 - accuracy: 0.9003 - val_loss: 0.9750 - val_accuracy: 0.8798\n",
            "Epoch 38/50\n",
            "844/844 [==============================] - 12s 14ms/step - loss: 0.3344 - accuracy: 0.9028 - val_loss: 1.1172 - val_accuracy: 0.8823\n",
            "Epoch 39/50\n",
            "844/844 [==============================] - 13s 15ms/step - loss: 0.3647 - accuracy: 0.8955 - val_loss: 1.2457 - val_accuracy: 0.8673\n",
            "Epoch 40/50\n",
            "844/844 [==============================] - 12s 15ms/step - loss: 0.3774 - accuracy: 0.8992 - val_loss: 1.5200 - val_accuracy: 0.7940\n",
            "Epoch 41/50\n",
            "844/844 [==============================] - 12s 14ms/step - loss: 0.4038 - accuracy: 0.8772 - val_loss: 1.5658 - val_accuracy: 0.8687\n",
            "Epoch 42/50\n",
            "844/844 [==============================] - 12s 15ms/step - loss: 0.3934 - accuracy: 0.8940 - val_loss: 1.2930 - val_accuracy: 0.8845\n",
            "Epoch 43/50\n",
            "844/844 [==============================] - 12s 15ms/step - loss: 0.3977 - accuracy: 0.8949 - val_loss: 1.7161 - val_accuracy: 0.8670\n",
            "Epoch 44/50\n",
            "844/844 [==============================] - 12s 14ms/step - loss: 0.4086 - accuracy: 0.8920 - val_loss: 1.4110 - val_accuracy: 0.8675\n",
            "Epoch 45/50\n",
            "844/844 [==============================] - 13s 15ms/step - loss: 0.4514 - accuracy: 0.8859 - val_loss: 0.8155 - val_accuracy: 0.8772\n",
            "Epoch 46/50\n",
            "844/844 [==============================] - 13s 15ms/step - loss: 0.4584 - accuracy: 0.8785 - val_loss: 2.7627 - val_accuracy: 0.8532\n",
            "Epoch 47/50\n",
            "844/844 [==============================] - 13s 15ms/step - loss: 0.5365 - accuracy: 0.8707 - val_loss: 1.4941 - val_accuracy: 0.8388\n",
            "Epoch 48/50\n",
            "844/844 [==============================] - 15s 18ms/step - loss: 0.5892 - accuracy: 0.8653 - val_loss: 2.4509 - val_accuracy: 0.7878\n",
            "Epoch 49/50\n",
            "844/844 [==============================] - 13s 15ms/step - loss: 0.5638 - accuracy: 0.8617 - val_loss: 1.9401 - val_accuracy: 0.8653\n",
            "Epoch 50/50\n",
            "844/844 [==============================] - 14s 16ms/step - loss: 0.6627 - accuracy: 0.8599 - val_loss: 1.1668 - val_accuracy: 0.6850\n"
          ]
        }
      ],
      "source": [
        "# train the model\n",
        "\n",
        "h_sgd  = dnn_Model.fit(Xtrain, Ytrain, epochs=50, batch_size=64, validation_split=0.1)\n",
        "h_sgd_m = dnn_Model_sgd_m.fit(Xtrain, Ytrain, epochs=50, batch_size=64, validation_split=0.1)\n",
        "h_adam  = dnn_Model_adam.fit(Xtrain, Ytrain, epochs=50, batch_size=64, validation_split=0.1)\n",
        "h_rms  = dnn_Model_rmsprop.fit(Xtrain, Ytrain, epochs=50, batch_size=64, validation_split=0.1)"
      ]
    },
    {
      "cell_type": "code",
      "execution_count": 80,
      "metadata": {
        "id": "hRIYu6um6d4k",
        "outputId": "a23bbaba-462c-4edd-f8e4-47f1adc19aba",
        "colab": {
          "base_uri": "https://localhost:8080/"
        }
      },
      "outputs": [
        {
          "output_type": "stream",
          "name": "stdout",
          "text": [
            "SGD Final training accuracy  0.9819074273109436\n",
            "SGD with momentum Final training accuracy  0.9669259190559387\n",
            "Adam Final training accuracy  0.9718518257141113\n",
            "RMSProp Final training accuracy  0.8599444627761841\n"
          ]
        }
      ],
      "source": [
        "#training accuracy\n",
        "\n",
        "print('SGD Final training accuracy ', h_sgd.history['accuracy'][-1])\n",
        "print('SGD with momentum Final training accuracy ', h_sgd_m.history['accuracy'][-1])\n",
        "print('Adam Final training accuracy ', h_adam.history['accuracy'][-1])\n",
        "print('RMSProp Final training accuracy ', h_rms.history['accuracy'][-1])"
      ]
    },
    {
      "cell_type": "code",
      "source": [
        "#training loss\n",
        "\n",
        "print('SGD Final training loss ', h_sgd.history['loss'][-1])\n",
        "print('SGD with momentum Final training loss ', h_sgd_m.history['loss'][-1])\n",
        "print('Adam Final training loss ', h_adam.history['loss'][-1])\n",
        "print('RMSProp Final training loss ', h_rms.history['loss'][-1])"
      ],
      "metadata": {
        "colab": {
          "base_uri": "https://localhost:8080/"
        },
        "id": "a3Ui1i_E0oM9",
        "outputId": "59dc6170-d8af-4cad-82c7-eb3d240a77eb"
      },
      "execution_count": 81,
      "outputs": [
        {
          "output_type": "stream",
          "name": "stdout",
          "text": [
            "SGD Final training loss  0.04996858164668083\n",
            "SGD with momentum Final training loss  0.09142769128084183\n",
            "Adam Final training loss  0.07423765957355499\n",
            "RMSProp Final training loss  0.6626842021942139\n"
          ]
        }
      ]
    },
    {
      "cell_type": "markdown",
      "metadata": {
        "id": "Kbwnqvld6d4k"
      },
      "source": [
        "## Testing the Model"
      ]
    },
    {
      "cell_type": "code",
      "execution_count": 76,
      "metadata": {
        "id": "naF3XhIM6d4k",
        "outputId": "4ba0b94f-294e-437d-d81a-f3a9d8805879",
        "colab": {
          "base_uri": "https://localhost:8080/"
        }
      },
      "outputs": [
        {
          "output_type": "stream",
          "name": "stdout",
          "text": [
            "313/313 [==============================] - 1s 4ms/step - loss: 0.5153 - accuracy: 0.8901\n",
            "313/313 [==============================] - 2s 5ms/step - loss: 0.3976 - accuracy: 0.8889\n",
            "313/313 [==============================] - 1s 3ms/step - loss: 0.6218 - accuracy: 0.8890\n",
            "313/313 [==============================] - 1s 3ms/step - loss: 1.3663 - accuracy: 0.6798\n"
          ]
        }
      ],
      "source": [
        "# testing the model\n",
        "\n",
        "testLoss_sgd, testAccuracy_sgd = dnn_Model.evaluate( Xtest, Ytest)\n",
        "testLoss_sgd_m, testAccuracy_sgd_m = dnn_Model_sgd_m.evaluate( Xtest, Ytest)\n",
        "testLoss_adam, testAccuracy_adam = dnn_Model_adam.evaluate( Xtest, Ytest)\n",
        "testLoss_rms, testAccuracy_rms = dnn_Model_rmsprop.evaluate( Xtest, Ytest)"
      ]
    },
    {
      "cell_type": "code",
      "execution_count": 82,
      "metadata": {
        "id": "W9DwyCml6d4k",
        "outputId": "7473a400-2f71-4904-fe85-17cdbdb3cfc4",
        "colab": {
          "base_uri": "https://localhost:8080/",
          "height": 472
        }
      },
      "outputs": [
        {
          "output_type": "display_data",
          "data": {
            "text/plain": [
              "<Figure size 640x480 with 1 Axes>"
            ],
            "image/png": "[encoded data removed]"
          },
          "metadata": {}
        }
      ],
      "source": [
        "# plot the training accuracy\n",
        "\n",
        "plt.plot(h_sgd.history['accuracy'], label='SGD')\n",
        "plt.plot(h_sgd_m.history['accuracy'], label='SGD_Momentum')\n",
        "plt.plot(h_adam.history['accuracy'], label='Adam')\n",
        "plt.plot(h_rms.history['accuracy'], label='RmsProp')\n",
        "\n",
        "plt.xlabel('Epochs')\n",
        "plt.ylabel('Loss')\n",
        "plt.title('Plot of Training Accuracy')\n",
        "plt.legend()\n",
        "plt.show()"
      ]
    },
    {
      "cell_type": "code",
      "execution_count": 83,
      "metadata": {
        "id": "v_AYAg416d4k",
        "outputId": "b82aeb9e-28c7-4b8d-be9e-f1b3313109fa",
        "colab": {
          "base_uri": "https://localhost:8080/",
          "height": 472
        }
      },
      "outputs": [
        {
          "output_type": "display_data",
          "data": {
            "text/plain": [
              "<Figure size 640x480 with 1 Axes>"
            ],
            "image/png": "[encoded data removed]"
          },
          "metadata": {}
        }
      ],
      "source": [
        "# plot the training loss\n",
        "\n",
        "plt.plot(h_sgd.history['loss'], label='SGD')\n",
        "plt.plot(h_sgd_m.history['loss'], label='SGD_Momentum')\n",
        "plt.plot(h_adam.history['loss'], label='Adam')\n",
        "plt.plot(h_rms.history['loss'], label='RmsProp')\n",
        "\n",
        "plt.xlabel('Epochs')\n",
        "plt.ylabel('Loss')\n",
        "plt.title('Plot of Training Loss')\n",
        "plt.legend()\n",
        "plt.show()"
      ]
    },
    {
      "cell_type": "markdown",
      "source": [
        "##**Tabular Comparison w.r.t performance metrics**"
      ],
      "metadata": {
        "id": "pXRmv85Bge-y"
      }
    },
    {
      "cell_type": "markdown",
      "source": [
        "##**Training**"
      ],
      "metadata": {
        "id": "2PKV3PBe28W8"
      }
    },
    {
      "cell_type": "markdown",
      "source": [
        "---\n",
        "Optimizer    ---------------------------       Training Loss    --------------------------          Training Accuracy\n",
        "\n",
        "\n",
        "---\n",
        "\n",
        "SGD       -----------------------------------------        0.0499------------------------------------------0.9819\n",
        "\n",
        "SGD_Momentum----------------------0.0914 ------------------------------------------0.9669\n",
        "                   \n",
        "Adam      --------------------------------------         0.0742------------------------------------------0.9718\n",
        "\n",
        "RMSProp   --------------------------------          0.6626-------------------------------------------0.8599"
      ],
      "metadata": {
        "id": "TG3PPJvXge-y"
      }
    },
    {
      "cell_type": "markdown",
      "source": [
        "##**Testing**"
      ],
      "metadata": {
        "id": "0_C9gqJC3BSB"
      }
    },
    {
      "cell_type": "markdown",
      "source": [
        "---\n",
        "Optimizer    ---------------------------       Testing Loss    --------------------------          Testing Accuracy\n",
        "\n",
        "\n",
        "---\n",
        "\n",
        "SGD       -----------------------------------------        0.5153------------------------------------------ 0.8901\n",
        "\n",
        "SGD_Momentum----------------------0.3976 ------------------------------------------0.8889\n",
        "                   \n",
        "Adam      --------------------------------------         0.6218------------------------------------------0.8890\n",
        "\n",
        "RMSProp   --------------------------------          1.3663-------------------------------------------0.6798"
      ],
      "metadata": {
        "id": "_Lw9XQFF2Ipt"
      }
    },
    {
      "cell_type": "markdown",
      "source": [
        "#Comparative Analysis\n",
        "\n",
        "\n",
        "\n",
        "##1.   When we compare the optimizers performance w.r.t ***model training***;  **SGD**, **SGD_Momentum** and **Adam** optimizers are equally good in accuracy and loss metrics.\n",
        "\n",
        "##2.   And if we compare the performance w.r.t ***model testing***; **SGD**, **SGD_Momentum** and **Adam** optimizers are very similar to their performance in accuracy and loss metrics.\n"
      ],
      "metadata": {
        "id": "9DbOjrlmge-y"
      }
    }
  ]
}